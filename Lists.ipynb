{
 "cells": [
  {
   "cell_type": "markdown",
   "id": "255d1ccc",
   "metadata": {
    "id": "255d1ccc"
   },
   "source": [
    "# Programming Course in Python\n",
    "\n",
    "\n",
    "# Python Lists"
   ]
  },
  {
   "cell_type": "markdown",
   "id": "HXlfRhc03Ilf",
   "metadata": {
    "id": "HXlfRhc03Ilf"
   },
   "source": [
    "### Basic properties"
   ]
  },
  {
   "cell_type": "markdown",
   "id": "VYj5ZCve3MoA",
   "metadata": {
    "id": "VYj5ZCve3MoA"
   },
   "source": [
    "A Python list is an **ordered**, **mutable**, and **dynamic** collection of elements, which can store items of different data types. Lists are one of the most commonly used data structures in Python due to their flexibility and wide range of built-in methods.\n"
   ]
  },
  {
   "cell_type": "markdown",
   "id": "bef6f52d",
   "metadata": {
    "id": "bef6f52d"
   },
   "source": [
    "### Implementation\n",
    "\n",
    "There are two ways to create a list:\n",
    "* using the square brackets [ ]\n",
    "* using the *list( )* function"
   ]
  },
  {
   "cell_type": "code",
   "execution_count": null,
   "id": "96fe0092",
   "metadata": {
    "id": "96fe0092",
    "outputId": "4d2e1832-396a-4edb-b86c-6ec9c6a5c970"
   },
   "outputs": [
    {
     "name": "stdout",
     "output_type": "stream",
     "text": [
      "<class 'list'>\n",
      "<class 'list'>\n"
     ]
    }
   ],
   "source": [
    "array1 = []\n",
    "array2 = list()\n",
    "print(type(array1))\n",
    "print(type(array2))"
   ]
  },
  {
   "cell_type": "markdown",
   "id": "492bd3e7",
   "metadata": {
    "id": "492bd3e7"
   },
   "source": [
    "We can also create lists with already-put elements.\n",
    "\n",
    "The elements of a list are separated by , commas.\n",
    "\n",
    "The *list( )* function takes in an initializer list as a parameter."
   ]
  },
  {
   "cell_type": "code",
   "execution_count": null,
   "id": "25ea6ed7",
   "metadata": {
    "id": "25ea6ed7",
    "outputId": "86b00bf8-39f6-4dca-eb31-88bd636c9acd"
   },
   "outputs": [
    {
     "name": "stdout",
     "output_type": "stream",
     "text": [
      "[1, 2, 3] <class 'list'>\n",
      "[1, 2, 3] <class 'list'>\n"
     ]
    }
   ],
   "source": [
    "array1 = [1, 2, 3]\n",
    "array2 = list({1, 2, 3})\n",
    "print(array1, type(array1))\n",
    "print(array2, type(array2))"
   ]
  },
  {
   "cell_type": "markdown",
   "id": "f47cd4d5",
   "metadata": {
    "id": "f47cd4d5"
   },
   "source": [
    "We can store objects of different types within one list:"
   ]
  },
  {
   "cell_type": "code",
   "execution_count": null,
   "id": "f296e033",
   "metadata": {
    "id": "f296e033",
    "outputId": "4e2d518d-8d10-4e5c-a8f4-30b4babcc4ac"
   },
   "outputs": [
    {
     "name": "stdout",
     "output_type": "stream",
     "text": [
      "1\t<class 'int'>\n",
      "2.3\t<class 'float'>\n",
      "text\t<class 'str'>\n",
      "(4, 5)\t<class 'tuple'>\n"
     ]
    }
   ],
   "source": [
    "array = [1, 2.3, \"text\", (4, 5)]\n",
    "for i in array:\n",
    "    print(i, type(i), sep='\\t')"
   ]
  },
  {
   "cell_type": "markdown",
   "id": "8f1eda05",
   "metadata": {
    "id": "8f1eda05"
   },
   "source": [
    "and even lists in a list!"
   ]
  },
  {
   "cell_type": "code",
   "execution_count": null,
   "id": "4594baa6",
   "metadata": {
    "id": "4594baa6",
    "outputId": "abd293a2-c5df-4023-f284-db34ab38d91e"
   },
   "outputs": [
    {
     "name": "stdout",
     "output_type": "stream",
     "text": [
      "1\t<class 'int'>\n",
      "2\t<class 'int'>\n",
      "[3, 4]\t<class 'list'>\n",
      "5.6\t<class 'float'>\n"
     ]
    }
   ],
   "source": [
    "array = [1, 2, [3, 4], 5.6]\n",
    "for i in array:\n",
    "    print(i, type(i), sep='\\t')"
   ]
  },
  {
   "cell_type": "markdown",
   "id": "5095c451",
   "metadata": {
    "id": "5095c451"
   },
   "source": [
    "Note that a list which consists of other lists with equal number of elements is usually called a **matrix**."
   ]
  },
  {
   "cell_type": "markdown",
   "id": "YuG1VBWqEsNF",
   "metadata": {
    "id": "YuG1VBWqEsNF"
   },
   "source": [
    "The length of a string can be determined using the *len()* function"
   ]
  },
  {
   "cell_type": "code",
   "execution_count": 18,
   "id": "3pjeEmlXEyVo",
   "metadata": {
    "colab": {
     "base_uri": "https://localhost:8080/"
    },
    "executionInfo": {
     "elapsed": 589,
     "status": "ok",
     "timestamp": 1716998644260,
     "user": {
      "displayName": "Anna Pronina",
      "userId": "06651950483754174827"
     },
     "user_tz": -180
    },
    "id": "3pjeEmlXEyVo",
    "outputId": "c4c6fe14-7dd3-4a34-ad13-c95de3116a91"
   },
   "outputs": [
    {
     "name": "stdout",
     "output_type": "stream",
     "text": [
      "5\n",
      "4\n"
     ]
    }
   ],
   "source": [
    "array1 = [1, 2, 3, 2, 3]\n",
    "array2 = [\"dsba\", \"ami\", \"pe\", \"csda\"]\n",
    "print(len(array1))\n",
    "print(len(array2))"
   ]
  },
  {
   "cell_type": "markdown",
   "id": "tSp3XQkPKbLC",
   "metadata": {
    "id": "tSp3XQkPKbLC"
   },
   "source": [
    "### Iterations"
   ]
  },
  {
   "cell_type": "markdown",
   "id": "8STF8ZuCHC7L",
   "metadata": {
    "id": "8STF8ZuCHC7L"
   },
   "source": [
    "Let me remind you that a list is an **iterable** object. This means that each character in a list can be accessed using its index. The  indexing starts from 0 and goes from left to right.\n",
    "\n"
   ]
  },
  {
   "cell_type": "code",
   "execution_count": null,
   "id": "t9loXxCfHOo1",
   "metadata": {
    "id": "t9loXxCfHOo1"
   },
   "outputs": [],
   "source": [
    "array = [1, 2, 3, 4, 5, 6, 7]\n",
    "ind = int(input())\n",
    "array[ind]"
   ]
  },
  {
   "cell_type": "markdown",
   "id": "0f0c6b72",
   "metadata": {
    "id": "0f0c6b72"
   },
   "source": [
    "So, let us try to iterate through lists in practice!\n",
    "\n",
    "We can do it in 2 ways, both of which require the use of loops.\n",
    "\n",
    "**Option 1**: by elements"
   ]
  },
  {
   "cell_type": "code",
   "execution_count": 16,
   "id": "B0WVF8kjD-nZ",
   "metadata": {
    "colab": {
     "base_uri": "https://localhost:8080/"
    },
    "executionInfo": {
     "elapsed": 423,
     "status": "ok",
     "timestamp": 1716998143996,
     "user": {
      "displayName": "Anna Pronina",
      "userId": "06651950483754174827"
     },
     "user_tz": -180
    },
    "id": "B0WVF8kjD-nZ",
    "outputId": "9591b6ab-59db-4fd4-b3d3-317aa8f7fe78"
   },
   "outputs": [
    {
     "name": "stdout",
     "output_type": "stream",
     "text": [
      "1\n",
      "2\n",
      "3\n",
      "abc\n",
      "3.6\n"
     ]
    }
   ],
   "source": [
    "array = [1, 2, 3, \"abc\", 3.6]\n",
    "for element in array:\n",
    "  print(element)"
   ]
  },
  {
   "cell_type": "markdown",
   "id": "KX_nM3Dq3DFl",
   "metadata": {
    "id": "KX_nM3Dq3DFl"
   },
   "source": [
    "**Option 2**: by indices"
   ]
  },
  {
   "cell_type": "code",
   "execution_count": 17,
   "id": "zDeeXNLrEVGc",
   "metadata": {
    "colab": {
     "base_uri": "https://localhost:8080/"
    },
    "executionInfo": {
     "elapsed": 516,
     "status": "ok",
     "timestamp": 1716998233572,
     "user": {
      "displayName": "Anna Pronina",
      "userId": "06651950483754174827"
     },
     "user_tz": -180
    },
    "id": "zDeeXNLrEVGc",
    "outputId": "0a36c0f6-3d7d-4b00-9da9-e47f2dbe6f59"
   },
   "outputs": [
    {
     "name": "stdout",
     "output_type": "stream",
     "text": [
      "1\n",
      "2\n",
      "3\n",
      "abc\n",
      "3.6\n"
     ]
    }
   ],
   "source": [
    "array = [1, 2, 3, \"abc\", 3.6]\n",
    "for i in range(len(array)):\n",
    "  print(array[i])"
   ]
  },
  {
   "cell_type": "markdown",
   "id": "bcouTZc4JRtw",
   "metadata": {
    "id": "bcouTZc4JRtw"
   },
   "source": [
    "Interesting fact: indix can be **negative**! It will work the following way:\n",
    "\n",
    "Assume some non-negative *i*.\n",
    "\n",
    "Then *array [ -i ]* := array [ len(array) - i ]"
   ]
  },
  {
   "cell_type": "code",
   "execution_count": 24,
   "id": "vM1Pg_YmJQ9i",
   "metadata": {
    "colab": {
     "base_uri": "https://localhost:8080/"
    },
    "executionInfo": {
     "elapsed": 457,
     "status": "ok",
     "timestamp": 1716999704537,
     "user": {
      "displayName": "Anna Pronina",
      "userId": "06651950483754174827"
     },
     "user_tz": -180
    },
    "id": "vM1Pg_YmJQ9i",
    "outputId": "8b78df8c-7db8-4e76-f9e6-eaa0dc84d264"
   },
   "outputs": [
    {
     "name": "stdout",
     "output_type": "stream",
     "text": [
      "7\n",
      "3\n"
     ]
    }
   ],
   "source": [
    "array = [1, 2, 3, 4, 5, 6, 7]\n",
    "print(array[-1])\n",
    "print(array[-5])"
   ]
  },
  {
   "cell_type": "markdown",
   "id": "b-ou9u1OHdBx",
   "metadata": {
    "id": "b-ou9u1OHdBx"
   },
   "source": [
    "### Slices"
   ]
  },
  {
   "cell_type": "markdown",
   "id": "zvNowQntHndM",
   "metadata": {
    "id": "zvNowQntHndM"
   },
   "source": [
    "Slices can be used to extract subparts of these sequences using a specific indexing syntax.\n",
    "\n",
    "**Syntax of Slicing**\n",
    "\n",
    "The slicing syntax in Python is: array[ *start* : *stop* : *step* ]\n",
    "\n",
    "* start: The beginning index of the slice (inclusive).\n",
    "* stop: The end index of the slice (exclusive).\n",
    "* step: The interval between indices in the slice. The default value is 1.\n",
    "\n",
    "Let us have a look at some examples:\n",
    "\n"
   ]
  },
  {
   "cell_type": "code",
   "execution_count": 23,
   "id": "UeY7-XnlIQ53",
   "metadata": {
    "colab": {
     "base_uri": "https://localhost:8080/"
    },
    "executionInfo": {
     "elapsed": 519,
     "status": "ok",
     "timestamp": 1716999480273,
     "user": {
      "displayName": "Anna Pronina",
      "userId": "06651950483754174827"
     },
     "user_tz": -180
    },
    "id": "UeY7-XnlIQ53",
    "outputId": "27c6cb27-9305-40f0-abe3-79cd4d9f3a6e"
   },
   "outputs": [
    {
     "name": "stdout",
     "output_type": "stream",
     "text": [
      "[1, 2, 3, 4, 5, 6, 7]\n",
      "[2, 3, 4, 5, 6, 7]\n",
      "[1, 2, 3, 4]\n",
      "[2, 3, 4]\n",
      "[7, 6, 5, 4, 3, 2, 1]\n",
      "[4, 3, 2, 1]\n",
      "[7, 6, 5]\n"
     ]
    }
   ],
   "source": [
    "array = [1, 2, 3, 4, 5, 6, 7]\n",
    "print(array)\n",
    "print(array[1:])\n",
    "print(array[:4])\n",
    "print(array[1:4])\n",
    "print(array[::-1])\n",
    "print(array[3::-1])\n",
    "print(array[6:3:-1])"
   ]
  },
  {
   "cell_type": "markdown",
   "id": "x2TFH3Jzh8Sa",
   "metadata": {
    "id": "x2TFH3Jzh8Sa"
   },
   "source": [
    "### In-built methods"
   ]
  },
  {
   "cell_type": "markdown",
   "id": "6_82wC_qiHLo",
   "metadata": {
    "id": "6_82wC_qiHLo"
   },
   "source": [
    "*array.append( )* : Adds a single element to the end of the list."
   ]
  },
  {
   "cell_type": "code",
   "execution_count": 2,
   "id": "-szIlvNeiH_n",
   "metadata": {
    "colab": {
     "base_uri": "https://localhost:8080/"
    },
    "executionInfo": {
     "elapsed": 415,
     "status": "ok",
     "timestamp": 1716989287411,
     "user": {
      "displayName": "Anna Pronina",
      "userId": "06651950483754174827"
     },
     "user_tz": -180
    },
    "id": "-szIlvNeiH_n",
    "outputId": "a3ea842f-2336-415b-cf72-485891137938"
   },
   "outputs": [
    {
     "name": "stdout",
     "output_type": "stream",
     "text": [
      "[1, 2, 3]\n",
      "[1, 2, 3, 4]\n"
     ]
    }
   ],
   "source": [
    "array = [1, 2, 3]\n",
    "print(array)\n",
    "array.append(4)\n",
    "print(array)"
   ]
  },
  {
   "cell_type": "markdown",
   "id": "y05YaivbiW4U",
   "metadata": {
    "id": "y05YaivbiW4U"
   },
   "source": [
    "*array.extend( )* : Adds all elements of an iterable data structure (like a list) to the end of the list."
   ]
  },
  {
   "cell_type": "code",
   "execution_count": 3,
   "id": "0DGfyXJRirNR",
   "metadata": {
    "colab": {
     "base_uri": "https://localhost:8080/"
    },
    "executionInfo": {
     "elapsed": 458,
     "status": "ok",
     "timestamp": 1716989433419,
     "user": {
      "displayName": "Anna Pronina",
      "userId": "06651950483754174827"
     },
     "user_tz": -180
    },
    "id": "0DGfyXJRirNR",
    "outputId": "4b76721e-6db0-4130-81bd-e1c6165e4828"
   },
   "outputs": [
    {
     "name": "stdout",
     "output_type": "stream",
     "text": [
      "[1, 2, 3]\n",
      "[1, 2, 3, 4, 5]\n",
      "[1, 2, 3, 4, 5, 6, 0]\n"
     ]
    }
   ],
   "source": [
    "array = [1, 2, 3]\n",
    "print(array)\n",
    "array.extend([4, 5])\n",
    "print(array)\n",
    "extender = [6, 0]\n",
    "array.extend(extender)\n",
    "print(array)"
   ]
  },
  {
   "cell_type": "markdown",
   "id": "SZREEYXni7XY",
   "metadata": {
    "id": "SZREEYXni7XY"
   },
   "source": [
    "*array.insert(ind, el)* : Inserts an element el before the ind-th element."
   ]
  },
  {
   "cell_type": "code",
   "execution_count": 6,
   "id": "K8hvV1Hji6da",
   "metadata": {
    "colab": {
     "base_uri": "https://localhost:8080/"
    },
    "executionInfo": {
     "elapsed": 410,
     "status": "ok",
     "timestamp": 1716990606864,
     "user": {
      "displayName": "Anna Pronina",
      "userId": "06651950483754174827"
     },
     "user_tz": -180
    },
    "id": "K8hvV1Hji6da",
    "outputId": "7210ed58-6aee-4a1c-ffd6-2f72da354fdb"
   },
   "outputs": [
    {
     "name": "stdout",
     "output_type": "stream",
     "text": [
      "[1, 2, 3]\n",
      "[1, 'I am here', 2, 3]\n"
     ]
    }
   ],
   "source": [
    "array = [1, 2, 3]\n",
    "print(array)\n",
    "array.insert(1, 'I am here')\n",
    "print(array)"
   ]
  },
  {
   "cell_type": "markdown",
   "id": "2KoHXhEvnIhb",
   "metadata": {
    "id": "2KoHXhEvnIhb"
   },
   "source": [
    "*array.remove( )* : Removes the first occurrence of a specified element."
   ]
  },
  {
   "cell_type": "code",
   "execution_count": 5,
   "id": "c877e260",
   "metadata": {
    "colab": {
     "base_uri": "https://localhost:8080/"
    },
    "executionInfo": {
     "elapsed": 435,
     "status": "ok",
     "timestamp": 1716990601393,
     "user": {
      "displayName": "Anna Pronina",
      "userId": "06651950483754174827"
     },
     "user_tz": -180
    },
    "id": "c877e260",
    "outputId": "09f6f271-69f7-4fa9-90c8-41514bb05e11"
   },
   "outputs": [
    {
     "name": "stdout",
     "output_type": "stream",
     "text": [
      "[1, 2, 3]\n",
      "[1, 3]\n"
     ]
    }
   ],
   "source": [
    "array = [1, 2, 3]\n",
    "print(array)\n",
    "array.remove(2)\n",
    "print(array)"
   ]
  },
  {
   "cell_type": "markdown",
   "id": "i5UJN6ODnlsU",
   "metadata": {
    "id": "i5UJN6ODnlsU"
   },
   "source": [
    "*array.pop( )* : Removes and returns the element at a specified position. If no index is specified, it removes and returns the last element."
   ]
  },
  {
   "cell_type": "code",
   "execution_count": 8,
   "id": "Va8dUNc9nkUk",
   "metadata": {
    "colab": {
     "base_uri": "https://localhost:8080/"
    },
    "executionInfo": {
     "elapsed": 589,
     "status": "ok",
     "timestamp": 1716993601184,
     "user": {
      "displayName": "Anna Pronina",
      "userId": "06651950483754174827"
     },
     "user_tz": -180
    },
    "id": "Va8dUNc9nkUk",
    "outputId": "79710701-06da-4af0-bccc-2a435f44578c"
   },
   "outputs": [
    {
     "name": "stdout",
     "output_type": "stream",
     "text": [
      "[1, 2, 3, 4, 5, 6]\n",
      "6\n",
      "[1, 2, 3, 4, 5]\n",
      "2\n",
      "[1, 3, 4, 5]\n"
     ]
    }
   ],
   "source": [
    "array = [1, 2, 3, 4, 5, 6]\n",
    "print(array)\n",
    "\n",
    "# pop() without index\n",
    "pop_without_ind = array.pop()\n",
    "print(pop_without_ind)\n",
    "print(array)\n",
    "\n",
    "# pop() with index\n",
    "pop_with_ind = array.pop(1)\n",
    "print(pop_with_ind)\n",
    "print(array)"
   ]
  },
  {
   "cell_type": "markdown",
   "id": "-Pv44sTvygm2",
   "metadata": {
    "id": "-Pv44sTvygm2"
   },
   "source": [
    "*array.clear( )* : Removes all elements from the list."
   ]
  },
  {
   "cell_type": "code",
   "execution_count": 9,
   "id": "YvY7Smhqyg5u",
   "metadata": {
    "colab": {
     "base_uri": "https://localhost:8080/"
    },
    "executionInfo": {
     "elapsed": 5,
     "status": "ok",
     "timestamp": 1716993631819,
     "user": {
      "displayName": "Anna Pronina",
      "userId": "06651950483754174827"
     },
     "user_tz": -180
    },
    "id": "YvY7Smhqyg5u",
    "outputId": "bd7d4b78-044a-4c60-9ca7-dd0a67b11b99"
   },
   "outputs": [
    {
     "name": "stdout",
     "output_type": "stream",
     "text": [
      "[1, 2, 3, 4, 5, 6]\n",
      "[]\n"
     ]
    }
   ],
   "source": [
    "array = [1, 2, 3, 4, 5, 6]\n",
    "print(array)\n",
    "array.clear()\n",
    "print(array)"
   ]
  },
  {
   "cell_type": "markdown",
   "id": "Q-gHEiUHzENr",
   "metadata": {
    "id": "Q-gHEiUHzENr"
   },
   "source": [
    "*array.index( )* : Returns the index of the first occurrence of a specified element."
   ]
  },
  {
   "cell_type": "code",
   "execution_count": 11,
   "id": "YudrdJUAy8HE",
   "metadata": {
    "colab": {
     "base_uri": "https://localhost:8080/"
    },
    "executionInfo": {
     "elapsed": 664,
     "status": "ok",
     "timestamp": 1716993773380,
     "user": {
      "displayName": "Anna Pronina",
      "userId": "06651950483754174827"
     },
     "user_tz": -180
    },
    "id": "YudrdJUAy8HE",
    "outputId": "6c38cab8-7a4c-4326-d699-6ac9316d6df3"
   },
   "outputs": [
    {
     "name": "stdout",
     "output_type": "stream",
     "text": [
      "0\n",
      "1\n",
      "3\n"
     ]
    }
   ],
   "source": [
    "array = [1, 2, 2, 3]\n",
    "print(array.index(1))\n",
    "print(array.index(2))\n",
    "print(array.index(3))"
   ]
  },
  {
   "cell_type": "markdown",
   "id": "yEq7U0XmzebF",
   "metadata": {
    "id": "yEq7U0XmzebF"
   },
   "source": [
    "*array.count( )* : Returns the number of occurrences of a specified element."
   ]
  },
  {
   "cell_type": "code",
   "execution_count": 12,
   "id": "M2y_N7M1zj-f",
   "metadata": {
    "colab": {
     "base_uri": "https://localhost:8080/"
    },
    "executionInfo": {
     "elapsed": 535,
     "status": "ok",
     "timestamp": 1716993831044,
     "user": {
      "displayName": "Anna Pronina",
      "userId": "06651950483754174827"
     },
     "user_tz": -180
    },
    "id": "M2y_N7M1zj-f",
    "outputId": "b22a8238-256d-4f20-a22a-545c49dc92d7"
   },
   "outputs": [
    {
     "name": "stdout",
     "output_type": "stream",
     "text": [
      "4\n",
      "3\n",
      "1\n"
     ]
    }
   ],
   "source": [
    "array = [1, 2, 1, 2, 3, 1, 2, 1]\n",
    "print(array.count(1))\n",
    "print(array.count(2))\n",
    "print(array.count(3))"
   ]
  },
  {
   "cell_type": "markdown",
   "id": "C0BxvYl01cQW",
   "metadata": {
    "id": "C0BxvYl01cQW"
   },
   "source": [
    "*array.reverse( )* : Reverses the elements of the list in place."
   ]
  },
  {
   "cell_type": "code",
   "execution_count": 13,
   "id": "p_ybAxrDzsMg",
   "metadata": {
    "colab": {
     "base_uri": "https://localhost:8080/"
    },
    "executionInfo": {
     "elapsed": 536,
     "status": "ok",
     "timestamp": 1716994352723,
     "user": {
      "displayName": "Anna Pronina",
      "userId": "06651950483754174827"
     },
     "user_tz": -180
    },
    "id": "p_ybAxrDzsMg",
    "outputId": "9beb5362-63d0-411b-ad9c-25acc33f4a5c"
   },
   "outputs": [
    {
     "name": "stdout",
     "output_type": "stream",
     "text": [
      "[1, 2, 3, 4, 5]\n",
      "[5, 4, 3, 2, 1]\n"
     ]
    }
   ],
   "source": [
    "array = [1, 2, 3, 4, 5]\n",
    "print(array)\n",
    "array.reverse()\n",
    "print(array)"
   ]
  },
  {
   "cell_type": "markdown",
   "id": "ufMNP5y11xwv",
   "metadata": {
    "id": "ufMNP5y11xwv"
   },
   "source": [
    "*array.sort( )* : Sorts the list in ascending order by default. It can also take a *reverse* parameter to sort in descending order."
   ]
  },
  {
   "cell_type": "code",
   "execution_count": 15,
   "id": "Vu9k-gwj1sJa",
   "metadata": {
    "colab": {
     "base_uri": "https://localhost:8080/"
    },
    "executionInfo": {
     "elapsed": 495,
     "status": "ok",
     "timestamp": 1716996748772,
     "user": {
      "displayName": "Anna Pronina",
      "userId": "06651950483754174827"
     },
     "user_tz": -180
    },
    "id": "Vu9k-gwj1sJa",
    "outputId": "983bff7f-fade-4808-b6fb-bf90545739a3"
   },
   "outputs": [
    {
     "name": "stdout",
     "output_type": "stream",
     "text": [
      "[1, 1, 2, 3, 3, 4, 5, 5, 5, 6, 9]\n",
      "[9, 6, 5, 5, 5, 4, 3, 3, 2, 1, 1]\n"
     ]
    }
   ],
   "source": [
    "array = [3, 1, 4, 1, 5, 9, 2, 6, 5, 3, 5]\n",
    "array.sort()\n",
    "print(array)\n",
    "\n",
    "array_desc = [3, 1, 4, 1, 5, 9, 2, 6, 5, 3, 5]\n",
    "array_desc.sort(reverse=True)\n",
    "print(array_desc)"
   ]
  },
  {
   "cell_type": "markdown",
   "id": "W3pqccOjKmpa",
   "metadata": {
    "id": "W3pqccOjKmpa"
   },
   "source": [
    "### Multi-dimensional spaces"
   ]
  },
  {
   "cell_type": "markdown",
   "id": "XjqkGzMjKsqA",
   "metadata": {
    "id": "XjqkGzMjKsqA"
   },
   "source": [
    "Do you remember the note about matrices? Well, it is time to speak a bit more about it.\n",
    "\n",
    "In Python, a list can contain other lists as its elements, creating a multidimensional structure. The most common form is a 2D list (a list of lists), but you can have lists of any dimension.\n",
    "\n",
    "So, let us create a 2D list."
   ]
  },
  {
   "cell_type": "code",
   "execution_count": 26,
   "id": "uVui6xunKl7T",
   "metadata": {
    "colab": {
     "base_uri": "https://localhost:8080/"
    },
    "executionInfo": {
     "elapsed": 403,
     "status": "ok",
     "timestamp": 1717000041488,
     "user": {
      "displayName": "Anna Pronina",
      "userId": "06651950483754174827"
     },
     "user_tz": -180
    },
    "id": "uVui6xunKl7T",
    "outputId": "33445fb4-492e-4b58-b378-678dcb83c779"
   },
   "outputs": [
    {
     "name": "stdout",
     "output_type": "stream",
     "text": [
      "[[1, 2, 3], [4, 5, 6], [7, 8, 9]]\n"
     ]
    }
   ],
   "source": [
    "matrix = [\n",
    "    [1, 2, 3],\n",
    "    [4, 5, 6],\n",
    "    [7, 8, 9]\n",
    "]\n",
    "\n",
    "print(matrix)"
   ]
  },
  {
   "cell_type": "markdown",
   "id": "E0c_fSRvLcpH",
   "metadata": {
    "id": "E0c_fSRvLcpH"
   },
   "source": [
    "To access elements in a 2D list, you need to specify the row index and the column index. Example:"
   ]
  },
  {
   "cell_type": "code",
   "execution_count": 32,
   "id": "7YTHUvfjLfEm",
   "metadata": {
    "colab": {
     "base_uri": "https://localhost:8080/"
    },
    "executionInfo": {
     "elapsed": 488,
     "status": "ok",
     "timestamp": 1717000418993,
     "user": {
      "displayName": "Anna Pronina",
      "userId": "06651950483754174827"
     },
     "user_tz": -180
    },
    "id": "7YTHUvfjLfEm",
    "outputId": "89126917-f135-47bb-e8cf-b9e2b1d543f3"
   },
   "outputs": [
    {
     "name": "stdout",
     "output_type": "stream",
     "text": [
      "6\n",
      "[[1, 2, 3], [4, 5, 0], [7, 8, 9]]\n"
     ]
    }
   ],
   "source": [
    "element = matrix[1][2]\n",
    "print(element)\n",
    "\n",
    "matrix[1][2] = 0\n",
    "print(matrix)"
   ]
  },
  {
   "cell_type": "markdown",
   "id": "GSE3JFThLYWA",
   "metadata": {
    "id": "GSE3JFThLYWA"
   },
   "source": [
    "And now let us try to iterate through the elements of a matrix!"
   ]
  },
  {
   "cell_type": "code",
   "execution_count": 33,
   "id": "69wzVGTALxGC",
   "metadata": {
    "colab": {
     "base_uri": "https://localhost:8080/"
    },
    "executionInfo": {
     "elapsed": 461,
     "status": "ok",
     "timestamp": 1717000428721,
     "user": {
      "displayName": "Anna Pronina",
      "userId": "06651950483754174827"
     },
     "user_tz": -180
    },
    "id": "69wzVGTALxGC",
    "outputId": "3cd7e342-74b8-4bad-e9a7-ddd1a1f7c4b5"
   },
   "outputs": [
    {
     "name": "stdout",
     "output_type": "stream",
     "text": [
      "1 2 3 \n",
      "4 5 6 \n",
      "7 8 9 \n"
     ]
    }
   ],
   "source": [
    "matrix = [\n",
    "    [1, 2, 3],\n",
    "    [4, 5, 6],\n",
    "    [7, 8, 9]\n",
    "]\n",
    "\n",
    "for row in matrix:\n",
    "    for element in row:\n",
    "        print(element, end=\" \")\n",
    "    print() #new line after each row"
   ]
  },
  {
   "cell_type": "markdown",
   "id": "y06Uyut8MDa4",
   "metadata": {
    "id": "y06Uyut8MDa4"
   },
   "source": [
    "### Tasks!"
   ]
  },
  {
   "cell_type": "markdown",
   "id": "fSLkjEFGMYnu",
   "metadata": {
    "id": "fSLkjEFGMYnu"
   },
   "source": [
    "Try to iterate through the elements of a matrix using **indices**:"
   ]
  },
  {
   "cell_type": "code",
   "execution_count": null,
   "id": "6Dw7OmFqMCzT",
   "metadata": {
    "id": "6Dw7OmFqMCzT"
   },
   "outputs": [],
   "source": [
    "matrix = [\n",
    "    [1, 2, 3],\n",
    "    [4, 5, 6],\n",
    "    [7, 8, 9]\n",
    "]\n",
    "\n",
    "# your code"
   ]
  },
  {
   "cell_type": "markdown",
   "id": "uTQDGIaCMkzy",
   "metadata": {
    "id": "uTQDGIaCMkzy"
   },
   "source": [
    "And try to implement matrix transposion:"
   ]
  },
  {
   "cell_type": "code",
   "execution_count": null,
   "id": "TQBsWbx2NNFU",
   "metadata": {
    "id": "TQBsWbx2NNFU"
   },
   "outputs": [],
   "source": [
    "matrix = [\n",
    "    [1, 2, 3],\n",
    "    [4, 5, 6],\n",
    "    [7, 8, 9]\n",
    "]\n",
    "\n",
    "# your code"
   ]
  },
  {
   "cell_type": "markdown",
   "id": "Ar2FjUXTNZco",
   "metadata": {
    "id": "Ar2FjUXTNZco"
   },
   "source": [
    "Multidimensional lists in Python provide a way to organize and manipulate data in a structured form. By understanding how to create, access, modify, and iterate through multidimensional lists, you can handle more complex data structures efficiently."
   ]
  },
  {
   "cell_type": "markdown",
   "id": "DYb6e7jBNyyY",
   "metadata": {
    "id": "DYb6e7jBNyyY"
   },
   "source": [
    "### Lists as Stack and Queue"
   ]
  },
  {
   "cell_type": "markdown",
   "id": "KiAQGc5RN4wL",
   "metadata": {
    "id": "KiAQGc5RN4wL"
   },
   "source": [
    "A **stack** is a data structure that follows the Last In, First Out (LIFO) principle. This means that the last element added to the stack will be the first one to be removed.\n",
    "\n",
    "Key points for stacks:\n",
    "* **Push**: Adding an element to the top of the stack.\n",
    "* **Pop**: Removing the top element from the stack.\n",
    "\n",
    "Python lists have built-in methods that make it easy to use them as stacks:\n",
    "\n",
    "* *.append( )* : To add an element to the top of the stack.\n",
    "* *.pop( )* : To remove and return the element from the top of the stack."
   ]
  },
  {
   "cell_type": "code",
   "execution_count": null,
   "id": "4xASZTyuN29i",
   "metadata": {
    "id": "4xASZTyuN29i"
   },
   "outputs": [],
   "source": [
    "# creating an empty stack\n",
    "stack = []\n",
    "\n",
    "# adding elements to the stack\n",
    "stack.append(1)\n",
    "stack.append(2)\n",
    "stack.append(3)\n",
    "print(\"Stack after pushes:\", stack)\n",
    "\n",
    "# removing elements from the stack\n",
    "top_element = stack.pop()\n",
    "print(\"Popped element:\", top_element)\n",
    "print(\"Stack after pop:\", stack)\n",
    "\n",
    "# another pop\n",
    "top_element = stack.pop()\n",
    "print(\"Popped element:\", top_element)\n",
    "print(\"Stack after pop:\", stack)"
   ]
  },
  {
   "cell_type": "markdown",
   "id": "kpmI8tTNOe84",
   "metadata": {
    "id": "kpmI8tTNOe84"
   },
   "source": [
    "A **queue** is a data structure that follows the First In, First Out (FIFO) principle. This means that the first element added to the queue will be the first one to be removed.\n",
    "\n",
    "Key points for queues:\n",
    "* **Enqueue**: Adding an element to the end of the queue.\n",
    "* **Dequeue**: Removing the front element from the queue.\n",
    "\n",
    "Python lists have built-in methods that will help us to implememt a queue are:\n",
    "* .*append( )* : To add an element to the end of the queue.\n",
    "* *.pop(0)* : To remove and return the element from the beginning of the queue.\n"
   ]
  },
  {
   "cell_type": "code",
   "execution_count": null,
   "id": "gEast5cXO2MU",
   "metadata": {
    "id": "gEast5cXO2MU"
   },
   "outputs": [],
   "source": [
    "# creating an empty queue\n",
    "queue = []\n",
    "\n",
    "# adding elements to the queue\n",
    "queue.append('1')\n",
    "queue.append('2')\n",
    "queue.append('3')\n",
    "print(\"Queue after enqueues:\", queue)\n",
    "\n",
    "# removing elements from the queue\n",
    "first_element = queue.pop(0)\n",
    "print(\"Dequeued element:\", first_element)\n",
    "print(\"Queue after dequeue:\", queue)\n",
    "\n",
    "# another dequeue\n",
    "first_element = queue.pop(0)\n",
    "print(\"Dequeued element:\", first_element)\n",
    "print(\"Queue after dequeue:\", queue)"
   ]
  },
  {
   "cell_type": "markdown",
   "id": "Gim-Nt-_P7Ke",
   "metadata": {
    "id": "Gim-Nt-_P7Ke"
   },
   "source": [
    "### Task!"
   ]
  },
  {
   "cell_type": "markdown",
   "id": "G0xJIlwCP95h",
   "metadata": {
    "id": "G0xJIlwCP95h"
   },
   "source": [
    "Try to implement a revertion of a string using a stack data structure"
   ]
  },
  {
   "cell_type": "code",
   "execution_count": null,
   "id": "ut3YE5aGQObe",
   "metadata": {
    "id": "ut3YE5aGQObe"
   },
   "outputs": [],
   "source": [
    "str = 'Hello, world!'\n",
    "\n",
    "stack = []\n",
    "\n",
    "#your code here"
   ]
  },
  {
   "cell_type": "markdown",
   "id": "02858142",
   "metadata": {},
   "source": [
    "## Yandex Contest\n",
    "\n",
    "Great work!\n",
    "\n",
    "Here is the link to the tasks in Yandex Contest: https://official.contest.yandex.ru/contest/62938/standings\n",
    "\n",
    "You can test your knowledge and train your skills!"
   ]
  }
 ],
 "metadata": {
  "colab": {
   "provenance": []
  },
  "kernelspec": {
   "display_name": "Python 3 (ipykernel)",
   "language": "python",
   "name": "python3"
  },
  "language_info": {
   "codemirror_mode": {
    "name": "ipython",
    "version": 3
   },
   "file_extension": ".py",
   "mimetype": "text/x-python",
   "name": "python",
   "nbconvert_exporter": "python",
   "pygments_lexer": "ipython3",
   "version": "3.9.7"
  }
 },
 "nbformat": 4,
 "nbformat_minor": 5
}
