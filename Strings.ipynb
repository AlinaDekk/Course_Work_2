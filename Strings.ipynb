{
 "cells": [
  {
   "cell_type": "markdown",
   "id": "18493096",
   "metadata": {
    "id": "18493096"
   },
   "source": [
    "# Programming Course in Python\n",
    "\n",
    "\n",
    "# Python Strings"
   ]
  },
  {
   "cell_type": "markdown",
   "id": "a209944e",
   "metadata": {
    "id": "a209944e"
   },
   "source": [
    "### Basic Properties"
   ]
  },
  {
   "cell_type": "markdown",
   "id": "3e9a5d9f",
   "metadata": {
    "id": "3e9a5d9f"
   },
   "source": [
    "Strings in Python are sequences of characters enclosed within single (' ') or double quotes (\" \").\n",
    "\n",
    "They are a versatile data type used to represent text."
   ]
  },
  {
   "cell_type": "markdown",
   "id": "05bdf205",
   "metadata": {
    "id": "05bdf205"
   },
   "source": [
    "* Immutability\n",
    "* Length\n",
    "* Concatenation\n",
    "* Repetition\n",
    "* Indexing\n",
    "* Membership"
   ]
  },
  {
   "cell_type": "code",
   "execution_count": 1,
   "id": "5741d524",
   "metadata": {
    "executionInfo": {
     "elapsed": 3,
     "status": "ok",
     "timestamp": 1716997583687,
     "user": {
      "displayName": "Anna Pronina",
      "userId": "06651950483754174827"
     },
     "user_tz": -180
    },
    "id": "5741d524"
   },
   "outputs": [],
   "source": [
    "single_quote_string = 'Hello, World!'\n",
    "double_quote_string = \"Hello, World!\""
   ]
  },
  {
   "cell_type": "markdown",
   "id": "fb9496e8",
   "metadata": {
    "id": "fb9496e8"
   },
   "source": [
    "**Immutability**\n",
    "\n",
    "Once a string is created, it cannot be modified\n",
    "\n",
    "It is only possible to create a new string with changes from the first one, if needed"
   ]
  },
  {
   "cell_type": "code",
   "execution_count": null,
   "id": "60c07416",
   "metadata": {
    "id": "60c07416",
    "outputId": "fa90d672-4bbc-40c7-fdf2-4e6a7edf5a78"
   },
   "outputs": [
    {
     "name": "stdout",
     "output_type": "stream",
     "text": [
      "Hello\n",
      "Fello\n"
     ]
    }
   ],
   "source": [
    "text = \"Hello\"\n",
    "new_text = text.replace(\"H\", \"F\")\n",
    "print(text)\n",
    "print(new_text)"
   ]
  },
  {
   "cell_type": "markdown",
   "id": "f3f56527",
   "metadata": {
    "id": "f3f56527"
   },
   "source": [
    "**Length**\n",
    "\n",
    "The length of a string can be determined using the 'len()' function"
   ]
  },
  {
   "cell_type": "code",
   "execution_count": null,
   "id": "05951338",
   "metadata": {
    "id": "05951338",
    "outputId": "909e0f96-2832-4745-d1db-b268bb1d4851"
   },
   "outputs": [
    {
     "data": {
      "text/plain": [
       "4"
      ]
     },
     "execution_count": 7,
     "metadata": {},
     "output_type": "execute_result"
    }
   ],
   "source": [
    "text = 'DSBA'\n",
    "len(text)"
   ]
  },
  {
   "cell_type": "markdown",
   "id": "1f460b9c",
   "metadata": {
    "id": "1f460b9c"
   },
   "source": [
    "**Concatenation**\n",
    "\n",
    "String can be concatenated (summed) using the '+' operator"
   ]
  },
  {
   "cell_type": "code",
   "execution_count": null,
   "id": "d2899f50",
   "metadata": {
    "id": "d2899f50",
    "outputId": "7bf0d53d-91cf-4e12-eaca-6a7cca84d6de"
   },
   "outputs": [
    {
     "data": {
      "text/plain": [
       "'Alan Smith'"
      ]
     },
     "execution_count": 10,
     "metadata": {},
     "output_type": "execute_result"
    }
   ],
   "source": [
    "first_name = \"Alan\"\n",
    "last_name = 'Smith'\n",
    "first_name + \" \" + last_name"
   ]
  },
  {
   "cell_type": "markdown",
   "id": "18f2b19b",
   "metadata": {
    "id": "18f2b19b"
   },
   "source": [
    "**Repetition**\n",
    "\n",
    "Strings can be repeated using the \"*\" operator"
   ]
  },
  {
   "cell_type": "code",
   "execution_count": null,
   "id": "9304d424",
   "metadata": {
    "id": "9304d424",
    "outputId": "f5e73907-5f92-4d2c-adc5-b9f1a5be7d20"
   },
   "outputs": [
    {
     "data": {
      "text/plain": [
       "'Hello! Hello! Hello! Hello! Hello! '"
      ]
     },
     "execution_count": 12,
     "metadata": {},
     "output_type": "execute_result"
    }
   ],
   "source": [
    "text = \"Hello! \"\n",
    "repeated_text = text * 5\n",
    "repeated_text"
   ]
  },
  {
   "cell_type": "markdown",
   "id": "ba7b346a",
   "metadata": {
    "id": "ba7b346a"
   },
   "source": [
    "### Task!"
   ]
  },
  {
   "cell_type": "markdown",
   "id": "bf615aab",
   "metadata": {
    "id": "bf615aab"
   },
   "source": [
    "Write down your full name 3 times with 2 methods:\n",
    "1. Using variables\n",
    "2. Without variables"
   ]
  },
  {
   "cell_type": "code",
   "execution_count": null,
   "id": "c7cc84fd",
   "metadata": {
    "id": "c7cc84fd"
   },
   "outputs": [],
   "source": [
    "# First Method\n",
    "first_name = #...\n",
    "last_name = #...\n",
    "full_name = #...\n",
    "#..."
   ]
  },
  {
   "cell_type": "code",
   "execution_count": null,
   "id": "b06ef7e3",
   "metadata": {
    "id": "b06ef7e3"
   },
   "outputs": [],
   "source": [
    "# Second Method\n",
    "# ...your code"
   ]
  },
  {
   "cell_type": "markdown",
   "id": "fd503fbc",
   "metadata": {
    "id": "fd503fbc"
   },
   "source": [
    "**Indexing**\n",
    "\n",
    "Each character in a string can be accessed using its index.\n",
    "\n",
    "The first index start from 0"
   ]
  },
  {
   "cell_type": "code",
   "execution_count": null,
   "id": "b504b038",
   "metadata": {
    "id": "b504b038",
    "outputId": "712944d6-6649-4484-e178-28f57493f3d3"
   },
   "outputs": [
    {
     "name": "stdout",
     "output_type": "stream",
     "text": [
      "H o\n"
     ]
    }
   ],
   "source": [
    "text = \"Higher School of Economics\"\n",
    "print(text[0], text[11])"
   ]
  },
  {
   "cell_type": "markdown",
   "id": "2b125bcb",
   "metadata": {
    "id": "2b125bcb"
   },
   "source": [
    "Negative indexing starts from the end of the string"
   ]
  },
  {
   "cell_type": "code",
   "execution_count": null,
   "id": "f5a6982e",
   "metadata": {
    "id": "f5a6982e",
    "outputId": "b5de87bc-5e93-4fd1-dc03-546db5013bc7"
   },
   "outputs": [
    {
     "name": "stdout",
     "output_type": "stream",
     "text": [
      "s i\n"
     ]
    }
   ],
   "source": [
    "print(text[-1], text[-3])"
   ]
  },
  {
   "cell_type": "markdown",
   "id": "2ad00d84",
   "metadata": {
    "id": "2ad00d84"
   },
   "source": [
    "**Membership**\n",
    "\n",
    "The \"in\" keyword is used to check if a substring exists within a string"
   ]
  },
  {
   "cell_type": "code",
   "execution_count": null,
   "id": "44df9bba",
   "metadata": {
    "id": "44df9bba",
    "outputId": "4d5f6e48-76c6-4c49-913d-9d946c690996"
   },
   "outputs": [
    {
     "data": {
      "text/plain": [
       "True"
      ]
     },
     "execution_count": 19,
     "metadata": {},
     "output_type": "execute_result"
    }
   ],
   "source": [
    "text = \"Faculty of Computer Science\"\n",
    "\"Computer\" in text"
   ]
  },
  {
   "cell_type": "code",
   "execution_count": null,
   "id": "1c9af0f1",
   "metadata": {
    "id": "1c9af0f1",
    "outputId": "5f579056-3a6c-4c62-ee68-08b081a0fcd5"
   },
   "outputs": [
    {
     "data": {
      "text/plain": [
       "False"
      ]
     },
     "execution_count": 20,
     "metadata": {},
     "output_type": "execute_result"
    }
   ],
   "source": [
    "\"computer\" in text"
   ]
  },
  {
   "cell_type": "markdown",
   "id": "df59763b",
   "metadata": {
    "id": "df59763b"
   },
   "source": [
    "### Inner Implementation"
   ]
  },
  {
   "cell_type": "markdown",
   "id": "a91172be",
   "metadata": {
    "id": "a91172be"
   },
   "source": [
    "Strings are immutable sequences of Unicode characters. They are implemented as arrays of bytes representing Unicode code points. This means that each character in a string is stored as a sequence of bytes using a specific encoding (e.g., UTF-8).\n",
    "\n",
    "Understanding their inner implementation can help in optimizing code and utilizing strings effectively.\n",
    "\n",
    "* Memory Efficiency\n",
    "* Unicode Representation"
   ]
  },
  {
   "cell_type": "markdown",
   "id": "3992ad80",
   "metadata": {
    "id": "3992ad80"
   },
   "source": [
    "**Memory Efficiency**\n",
    "\n",
    "Python uses a technique called string interning to optimize memory usage.\n",
    "\n",
    "Identical string literals share the same memory location."
   ]
  },
  {
   "cell_type": "code",
   "execution_count": null,
   "id": "c2b252b2",
   "metadata": {
    "id": "c2b252b2",
    "outputId": "2c330efb-7e2b-44c4-99dd-0a9086a6a2fa"
   },
   "outputs": [
    {
     "name": "stdout",
     "output_type": "stream",
     "text": [
      "True\n"
     ]
    }
   ],
   "source": [
    "a = \"hello\"\n",
    "b = \"hello\"\n",
    "print(a is b)  # Output: True (both refer to the same memory location, demonstrating string interning.)"
   ]
  },
  {
   "cell_type": "markdown",
   "id": "f401d792",
   "metadata": {
    "id": "f401d792"
   },
   "source": [
    "**Unicode Representation**\n",
    "\n",
    "Strings are stored as sequences of Unicode code points.\n",
    "\n",
    "Python's default encoding is UTF-8"
   ]
  },
  {
   "cell_type": "code",
   "execution_count": null,
   "id": "c3fa856e",
   "metadata": {
    "id": "c3fa856e",
    "outputId": "f36a1d5e-4e0b-4f2d-baf6-284f406dc52f"
   },
   "outputs": [
    {
     "name": "stdout",
     "output_type": "stream",
     "text": [
      "b'hello'\n"
     ]
    }
   ],
   "source": [
    "text = \"hello\"\n",
    "print(text.encode('utf-8'))  # Output: b'hello'"
   ]
  },
  {
   "cell_type": "markdown",
   "id": "a4179596",
   "metadata": {
    "id": "a4179596"
   },
   "source": [
    "### Slices"
   ]
  },
  {
   "cell_type": "markdown",
   "id": "e48a70b1",
   "metadata": {
    "id": "e48a70b1"
   },
   "source": [
    "Slicing is a powerful feature in Python that allows you to access parts of sequences like strings.\n",
    "\n",
    "Slices can be used to extract subparts of these sequences using a specific syntax."
   ]
  },
  {
   "cell_type": "markdown",
   "id": "05d12867",
   "metadata": {
    "id": "05d12867"
   },
   "source": [
    "**Syntax of Slicing**\n",
    "\n",
    "The slicing syntax in Python is: sequence[ *start* : *stop* : *step* ]\n",
    "\n",
    "* start: The beginning index of the slice (inclusive).\n",
    "* stop: The end index of the slice (exclusive).\n",
    "* step: The interval between indices in the slice. The default value is 1."
   ]
  },
  {
   "cell_type": "markdown",
   "id": "6791adba",
   "metadata": {
    "id": "6791adba"
   },
   "source": [
    "**Key Features of Slicing**\n",
    "\n",
    "* Extracting Substrings\n",
    "* Default Indices\n",
    "* Negative Indices\n",
    "* Step Values\n",
    "\n",
    "**Practical Examples**\n",
    "\n",
    "* Reversing a String\n",
    "* Extracting Even-Indexed Characters\n",
    "* Extracting Odd-Indexed Characters\n",
    "* Using Negative Indices\n",
    "* Advanced Slicing"
   ]
  },
  {
   "cell_type": "markdown",
   "id": "9cf664be",
   "metadata": {
    "id": "9cf664be"
   },
   "source": [
    "**Extracting Substrings**\n",
    "\n",
    "We can extract parts of a string by specifying the start and stop indices."
   ]
  },
  {
   "cell_type": "code",
   "execution_count": null,
   "id": "8a29263a",
   "metadata": {
    "id": "8a29263a",
    "outputId": "5fa8b45c-1011-4f12-d406-67991c1e1f36"
   },
   "outputs": [
    {
     "data": {
      "text/plain": [
       "'Python'"
      ]
     },
     "execution_count": 29,
     "metadata": {},
     "output_type": "execute_result"
    }
   ],
   "source": [
    "text = \"Python Slicing\"\n",
    "text[0:6]"
   ]
  },
  {
   "cell_type": "markdown",
   "id": "ca4c66a5",
   "metadata": {
    "id": "ca4c66a5"
   },
   "source": [
    "**Default Indices**\n",
    "\n",
    "If you omit the start index, slicing starts from the beginning of the string.\n",
    "\n",
    "If you omit the stop index, slicing goes up to the end of the string."
   ]
  },
  {
   "cell_type": "code",
   "execution_count": null,
   "id": "7d570831",
   "metadata": {
    "id": "7d570831",
    "outputId": "af46d103-bd84-4b3d-ed92-a0b740f710e8"
   },
   "outputs": [
    {
     "name": "stdout",
     "output_type": "stream",
     "text": [
      "Python\n",
      "Slicing\n"
     ]
    }
   ],
   "source": [
    "text = \"Python Slicing\"\n",
    "print(text[:6])\n",
    "print(text[7:])"
   ]
  },
  {
   "cell_type": "markdown",
   "id": "521f10b8",
   "metadata": {
    "id": "521f10b8"
   },
   "source": [
    "**Negative Indices**\n",
    "\n",
    "Python supports negative indexing, which allows us to slice from the end of the string."
   ]
  },
  {
   "cell_type": "code",
   "execution_count": null,
   "id": "fb2ae3be",
   "metadata": {
    "id": "fb2ae3be",
    "outputId": "1d352b23-5bb2-4b8d-e101-367d05be5abd"
   },
   "outputs": [
    {
     "name": "stdout",
     "output_type": "stream",
     "text": [
      "Slicing\n",
      "Slicin\n"
     ]
    }
   ],
   "source": [
    "text = \"Python Slicing\"\n",
    "print(text[-7:])\n",
    "print(text[-7:-1])"
   ]
  },
  {
   "cell_type": "markdown",
   "id": "b1d1f947",
   "metadata": {
    "id": "b1d1f947"
   },
   "source": [
    "**Step Values**\n",
    "\n",
    "The step parameter allows you to specify the interval between indices.\n",
    "\n",
    "A negative step value reverses the direction of slicing."
   ]
  },
  {
   "cell_type": "code",
   "execution_count": null,
   "id": "e314d813",
   "metadata": {
    "id": "e314d813",
    "outputId": "4cf76008-8620-4f0c-cdc0-94e1ae1c3674"
   },
   "outputs": [
    {
     "name": "stdout",
     "output_type": "stream",
     "text": [
      "Pto lcn\n",
      "gnicilS nohtyP\n"
     ]
    }
   ],
   "source": [
    "text = \"Python Slicing\"\n",
    "print(text[::2])\n",
    "print(text[::-1])"
   ]
  },
  {
   "cell_type": "markdown",
   "id": "23a72d04",
   "metadata": {
    "id": "23a72d04"
   },
   "source": [
    "**Reversing a String**\n",
    "\n",
    "Using slicing with a step of -1 to reverse a string."
   ]
  },
  {
   "cell_type": "code",
   "execution_count": null,
   "id": "2111d9e8",
   "metadata": {
    "id": "2111d9e8",
    "outputId": "00a5f916-cb9d-499e-8ec4-e563b482000b"
   },
   "outputs": [
    {
     "name": "stdout",
     "output_type": "stream",
     "text": [
      "em esreveR\n"
     ]
    }
   ],
   "source": [
    "text = \"Reverse me\"\n",
    "reversed_text = text[::-1]\n",
    "print(reversed_text)"
   ]
  },
  {
   "cell_type": "markdown",
   "id": "2eb9b972",
   "metadata": {
    "id": "2eb9b972"
   },
   "source": [
    "**Extracting Even-Indexed Characters**"
   ]
  },
  {
   "cell_type": "code",
   "execution_count": null,
   "id": "a4e4e991",
   "metadata": {
    "id": "a4e4e991",
    "outputId": "bf3c8894-f02a-4482-a38d-d4419be2eb05"
   },
   "outputs": [
    {
     "name": "stdout",
     "output_type": "stream",
     "text": [
      "EeIdx\n"
     ]
    }
   ],
   "source": [
    "text = \"EvenIndex\"\n",
    "even_index_chars = text[::2]\n",
    "print(even_index_chars)"
   ]
  },
  {
   "cell_type": "markdown",
   "id": "d828a2e0",
   "metadata": {
    "id": "d828a2e0"
   },
   "source": [
    "**Extracting Odd-Indexed Characters**"
   ]
  },
  {
   "cell_type": "code",
   "execution_count": null,
   "id": "5bb01ceb",
   "metadata": {
    "id": "5bb01ceb",
    "outputId": "6f8972c1-df70-450f-bb41-fd7ca18ce055"
   },
   "outputs": [
    {
     "name": "stdout",
     "output_type": "stream",
     "text": [
      "dIdx\n"
     ]
    }
   ],
   "source": [
    "text = \"OddIndex\"\n",
    "odd_index_chars = text[1::2]\n",
    "print(odd_index_chars)"
   ]
  },
  {
   "cell_type": "markdown",
   "id": "0508305e",
   "metadata": {
    "id": "0508305e"
   },
   "source": [
    "**Using Negative Indices**\n",
    "\n",
    "Extracting a substring from the end using negative indices"
   ]
  },
  {
   "cell_type": "code",
   "execution_count": null,
   "id": "9ae34343",
   "metadata": {
    "id": "9ae34343",
    "outputId": "b5e2ab16-ae81-4139-9979-7f366457fda0"
   },
   "outputs": [
    {
     "name": "stdout",
     "output_type": "stream",
     "text": [
      "Slicing\n"
     ]
    }
   ],
   "source": [
    "text = \"Negative Slicing\"\n",
    "sub_text = text[-7:]\n",
    "print(sub_text)"
   ]
  },
  {
   "cell_type": "markdown",
   "id": "bc9b6085",
   "metadata": {
    "id": "bc9b6085"
   },
   "source": [
    "**Advanced Slicing**\n",
    "\n",
    "Combining start, stop, and step for more complex slicing"
   ]
  },
  {
   "cell_type": "code",
   "execution_count": null,
   "id": "fb6d59f6",
   "metadata": {
    "id": "fb6d59f6",
    "outputId": "f00e301b-7de9-49a2-86e3-48d392995d0b"
   },
   "outputs": [
    {
     "name": "stdout",
     "output_type": "stream",
     "text": [
      "vc in\n"
     ]
    }
   ],
   "source": [
    "text = \"Advanced Slicing\"\n",
    "complex_slice = text[2:15:3]\n",
    "print(complex_slice)"
   ]
  },
  {
   "cell_type": "markdown",
   "id": "c23953d2",
   "metadata": {
    "id": "c23953d2"
   },
   "source": [
    "### Tasks!"
   ]
  },
  {
   "cell_type": "markdown",
   "id": "9f310bbc",
   "metadata": {
    "id": "9f310bbc"
   },
   "source": [
    "**1. Extract the first word**"
   ]
  },
  {
   "cell_type": "code",
   "execution_count": null,
   "id": "c9272d13",
   "metadata": {
    "id": "c9272d13"
   },
   "outputs": [],
   "source": [
    "text = \"Learn Python\"\n",
    "first_word = #...\n",
    "print(first_word)"
   ]
  },
  {
   "cell_type": "markdown",
   "id": "b31ed277",
   "metadata": {
    "id": "b31ed277"
   },
   "source": [
    "**2. Extract the last word using negative indices**"
   ]
  },
  {
   "cell_type": "code",
   "execution_count": null,
   "id": "c20a1461",
   "metadata": {
    "id": "c20a1461"
   },
   "outputs": [],
   "source": [
    "text = \"Learn Python\"\n",
    "last_word = #...\n",
    "print(last_word)"
   ]
  },
  {
   "cell_type": "markdown",
   "id": "f7dffade",
   "metadata": {
    "id": "f7dffade"
   },
   "source": [
    "### In-built Methods\n",
    "\n",
    "* Changing Case\n",
    "* Trimming Spaces\n",
    "* Finding and Replacing\n",
    "* Splitting and Joining\n",
    "* Checking String Properties"
   ]
  },
  {
   "cell_type": "markdown",
   "id": "a3e05195",
   "metadata": {
    "id": "a3e05195"
   },
   "source": [
    "**Changing Case**\n",
    "\n",
    "Methods to convert string's case:\n",
    "* *.upper()* - Converts all characters in the string to uppercase.\n",
    "* *.lower()* - Converts all characters in the string to lowercase.\n",
    "* *.capitalize()* - Capitalizes the first character of the string.\n",
    "* *.title()* - Capitalizes the first character of each word in the string.\n",
    "* *.swapcase()* - Swaps the case of all characters in the string."
   ]
  },
  {
   "cell_type": "code",
   "execution_count": null,
   "id": "1aaff586",
   "metadata": {
    "id": "1aaff586",
    "outputId": "2fda3049-75d5-4c40-f19c-80726cbd0222"
   },
   "outputs": [
    {
     "name": "stdout",
     "output_type": "stream",
     "text": [
      "GREAT WORK\n",
      "great work\n",
      "Great work\n",
      "Great Work\n",
      "GREAT wORK\n"
     ]
    }
   ],
   "source": [
    "text = 'great Work'\n",
    "print(text.upper())\n",
    "print(text.lower())\n",
    "print(text.capitalize())\n",
    "print(text.title())\n",
    "print(text.swapcase())"
   ]
  },
  {
   "cell_type": "markdown",
   "id": "51e4f808",
   "metadata": {
    "id": "51e4f808"
   },
   "source": [
    "**Trimming**\n",
    "\n",
    "Methods for removing whitespace:\n",
    "* *.strip()* - removes whitespaces in the beginning and end of the string\n",
    "* *.lstri()* - removes whitespaces in the beginning of the string\n",
    "* .*rstrip()* - removes whitespaces in the end of the string"
   ]
  },
  {
   "cell_type": "code",
   "execution_count": null,
   "id": "2d0e9039",
   "metadata": {
    "id": "2d0e9039",
    "outputId": "a297fa93-7f34-4600-fb49-cb0dbe5fb7bc"
   },
   "outputs": [
    {
     "data": {
      "text/plain": [
       "'hello'"
      ]
     },
     "execution_count": 42,
     "metadata": {},
     "output_type": "execute_result"
    }
   ],
   "source": [
    "text = \"  hello  \"\n",
    "text.strip()"
   ]
  },
  {
   "cell_type": "code",
   "execution_count": null,
   "id": "0169194c",
   "metadata": {
    "id": "0169194c",
    "outputId": "9ee35349-c728-4497-cc67-86270cc0cb98"
   },
   "outputs": [
    {
     "data": {
      "text/plain": [
       "'hello'"
      ]
     },
     "execution_count": 43,
     "metadata": {},
     "output_type": "execute_result"
    }
   ],
   "source": [
    "text = \"  hello\"\n",
    "text.lstrip()"
   ]
  },
  {
   "cell_type": "code",
   "execution_count": null,
   "id": "b991a4ba",
   "metadata": {
    "id": "b991a4ba",
    "outputId": "cdeadaad-f877-4789-c12b-211655bd5da8"
   },
   "outputs": [
    {
     "data": {
      "text/plain": [
       "'hello'"
      ]
     },
     "execution_count": 44,
     "metadata": {},
     "output_type": "execute_result"
    }
   ],
   "source": [
    "text = \"hello  \"\n",
    "text.rstrip()"
   ]
  },
  {
   "cell_type": "code",
   "execution_count": null,
   "id": "a009e833",
   "metadata": {
    "id": "a009e833",
    "outputId": "94a2b89b-4286-4fb1-c687-e4675408b43e"
   },
   "outputs": [
    {
     "name": "stdout",
     "output_type": "stream",
     "text": [
      "Hello, World!\n",
      "Hello, World!  \n",
      "  Hello, World!\n"
     ]
    }
   ],
   "source": [
    "text = \"  Hello, World!  \"\n",
    "print(text.strip())\n",
    "print(text.lstrip())\n",
    "print(text.rstrip())"
   ]
  },
  {
   "cell_type": "markdown",
   "id": "35a06470",
   "metadata": {
    "id": "35a06470"
   },
   "source": [
    "**Finding and Replacing**"
   ]
  },
  {
   "cell_type": "markdown",
   "id": "1a887083",
   "metadata": {
    "id": "1a887083"
   },
   "source": [
    "*str.find(sub)* : Returns the lowest index where the substring sub is found, or -1 if not found."
   ]
  },
  {
   "cell_type": "code",
   "execution_count": null,
   "id": "e8d9f0c9",
   "metadata": {
    "id": "e8d9f0c9",
    "outputId": "60a4bd6a-d521-4c4b-caef-7e466ee87384"
   },
   "outputs": [
    {
     "name": "stdout",
     "output_type": "stream",
     "text": [
      "6\n",
      "-1\n"
     ]
    }
   ],
   "source": [
    "text = \"hello world\"\n",
    "print(text.find(\"world\"))\n",
    "print(text.find(\"Python\"))"
   ]
  },
  {
   "cell_type": "markdown",
   "id": "896a737d",
   "metadata": {
    "id": "896a737d"
   },
   "source": [
    "*str.rfind(sub)* : Returns the highest index where the substring sub is found, or -1 if not found."
   ]
  },
  {
   "cell_type": "code",
   "execution_count": null,
   "id": "9cb50605",
   "metadata": {
    "id": "9cb50605",
    "outputId": "01b5f141-db84-4196-d482-42ba93abc8a5"
   },
   "outputs": [
    {
     "name": "stdout",
     "output_type": "stream",
     "text": [
      "12\n"
     ]
    }
   ],
   "source": [
    "text = \"hello world world\"\n",
    "print(text.rfind(\"world\"))"
   ]
  },
  {
   "cell_type": "markdown",
   "id": "990eae59",
   "metadata": {
    "id": "990eae59"
   },
   "source": [
    "*str.replace(old, new)* : Replaces all occurrences of the substring old with new."
   ]
  },
  {
   "cell_type": "code",
   "execution_count": null,
   "id": "a09deae4",
   "metadata": {
    "id": "a09deae4",
    "outputId": "ca6b2a96-238a-440e-dfec-24a7900673e2"
   },
   "outputs": [
    {
     "name": "stdout",
     "output_type": "stream",
     "text": [
      "hello Python\n"
     ]
    }
   ],
   "source": [
    "text = \"hello world\"\n",
    "print(text.replace(\"world\", \"Python\"))  # Output: hello Python"
   ]
  },
  {
   "cell_type": "markdown",
   "id": "efcb6ddc",
   "metadata": {
    "id": "efcb6ddc"
   },
   "source": [
    "**Splitting and Joining**"
   ]
  },
  {
   "cell_type": "markdown",
   "id": "6326de90",
   "metadata": {
    "id": "6326de90"
   },
   "source": [
    "*str.split()* : Splits the string into a list of substrings based on the separator sep."
   ]
  },
  {
   "cell_type": "code",
   "execution_count": null,
   "id": "4ed15199",
   "metadata": {
    "id": "4ed15199",
    "outputId": "e74c69db-5b95-43ad-97d4-6bc6a81be6bf"
   },
   "outputs": [
    {
     "data": {
      "text/plain": [
       "['apple', 'banana', 'cherry']"
      ]
     },
     "execution_count": 53,
     "metadata": {},
     "output_type": "execute_result"
    }
   ],
   "source": [
    "text = \"apple,banana,cherry\"\n",
    "text.split(\",\")"
   ]
  },
  {
   "cell_type": "markdown",
   "id": "795fd678",
   "metadata": {
    "id": "795fd678"
   },
   "source": [
    "*str.rsplit()* : Splits the string into a list of substrings starting from the right."
   ]
  },
  {
   "cell_type": "code",
   "execution_count": null,
   "id": "56575cd1",
   "metadata": {
    "id": "56575cd1",
    "outputId": "d86811b6-66e0-4254-bca6-d4f30497a8d2"
   },
   "outputs": [
    {
     "data": {
      "text/plain": [
       "['apple,banana', 'cherry']"
      ]
     },
     "execution_count": 52,
     "metadata": {},
     "output_type": "execute_result"
    }
   ],
   "source": [
    "text = \"apple,banana,cherry\"\n",
    "text.rsplit(\",\", 1)"
   ]
  },
  {
   "cell_type": "markdown",
   "id": "1c2512e5",
   "metadata": {
    "id": "1c2512e5"
   },
   "source": [
    "str.join(iterable): Joins elements of an iterable with the string as the separator."
   ]
  },
  {
   "cell_type": "code",
   "execution_count": null,
   "id": "da364404",
   "metadata": {
    "id": "da364404",
    "outputId": "4d803f4b-ad8c-45eb-c8f3-d86bf6bc17bc"
   },
   "outputs": [
    {
     "data": {
      "text/plain": [
       "'apple, banana, cherry'"
      ]
     },
     "execution_count": 51,
     "metadata": {},
     "output_type": "execute_result"
    }
   ],
   "source": [
    "fruits = [\"apple\", \"banana\", \"cherry\"]\n",
    "\", \".join(fruits)"
   ]
  },
  {
   "cell_type": "markdown",
   "id": "bf0c7753",
   "metadata": {
    "id": "bf0c7753"
   },
   "source": [
    "**Checking String Properties**"
   ]
  },
  {
   "cell_type": "markdown",
   "id": "0640580e",
   "metadata": {
    "id": "0640580e"
   },
   "source": [
    "*str.startswith(prefix)* : Returns True if the string starts with the specified prefix."
   ]
  },
  {
   "cell_type": "code",
   "execution_count": null,
   "id": "003576bb",
   "metadata": {
    "id": "003576bb",
    "outputId": "0f5dd7af-2f75-4467-da5b-fc006a104298"
   },
   "outputs": [
    {
     "data": {
      "text/plain": [
       "True"
      ]
     },
     "execution_count": 54,
     "metadata": {},
     "output_type": "execute_result"
    }
   ],
   "source": [
    "text = \"hello world\"\n",
    "text.startswith(\"hello\")"
   ]
  },
  {
   "cell_type": "markdown",
   "id": "fe3b4a29",
   "metadata": {
    "id": "fe3b4a29"
   },
   "source": [
    "*str.endswith(suffix)* : Returns True if the string ends with the specified suffix."
   ]
  },
  {
   "cell_type": "code",
   "execution_count": null,
   "id": "ae10fdbe",
   "metadata": {
    "id": "ae10fdbe",
    "outputId": "66f8a12d-a7ad-4c93-ea0c-b3b6f7485130"
   },
   "outputs": [
    {
     "data": {
      "text/plain": [
       "True"
      ]
     },
     "execution_count": 55,
     "metadata": {},
     "output_type": "execute_result"
    }
   ],
   "source": [
    "text = \"hello world\"\n",
    "text.endswith(\"world\")"
   ]
  },
  {
   "cell_type": "markdown",
   "id": "032ed4f2",
   "metadata": {
    "id": "032ed4f2"
   },
   "source": [
    "*str.isalpha()* : Returns True if all characters in the string are alphabetic."
   ]
  },
  {
   "cell_type": "code",
   "execution_count": null,
   "id": "198d61a6",
   "metadata": {
    "id": "198d61a6",
    "outputId": "c18d6363-0ce1-4596-b2d2-da587b99f1bf"
   },
   "outputs": [
    {
     "name": "stdout",
     "output_type": "stream",
     "text": [
      "True\n",
      "False\n"
     ]
    }
   ],
   "source": [
    "text_1 = \"hello\"\n",
    "text_2 = '12345'\n",
    "print(text_1.isalpha())\n",
    "print(text_2.isalpha())"
   ]
  },
  {
   "cell_type": "markdown",
   "id": "0ab8c986",
   "metadata": {
    "id": "0ab8c986"
   },
   "source": [
    "*str.isdigit()* : Returns True if all characters in the string are digits."
   ]
  },
  {
   "cell_type": "code",
   "execution_count": null,
   "id": "c64933a2",
   "metadata": {
    "id": "c64933a2",
    "outputId": "525766ed-b2a0-4d37-9e39-a6fa0244b38d"
   },
   "outputs": [
    {
     "name": "stdout",
     "output_type": "stream",
     "text": [
      "True\n",
      "False\n"
     ]
    }
   ],
   "source": [
    "text_1 = \"12345\"\n",
    "text_2 = 'hello'\n",
    "print(text_1.isdigit())\n",
    "print(text_2.isdigit())"
   ]
  },
  {
   "cell_type": "markdown",
   "id": "7ccbb7f7",
   "metadata": {
    "id": "7ccbb7f7"
   },
   "source": [
    "*str.isalnum()* : Returns True if all characters in the string are alphanumeric."
   ]
  },
  {
   "cell_type": "code",
   "execution_count": null,
   "id": "441c72ef",
   "metadata": {
    "id": "441c72ef",
    "outputId": "55fb4946-7b5d-4a96-bc9a-c854435469c3"
   },
   "outputs": [
    {
     "name": "stdout",
     "output_type": "stream",
     "text": [
      "True\n",
      "True\n"
     ]
    }
   ],
   "source": [
    "text_1 = \"hello123\"\n",
    "text_2 = 'hello'\n",
    "print(text_1.isalnum())\n",
    "print(text_2.isalnum())"
   ]
  },
  {
   "cell_type": "markdown",
   "id": "de80bb3a",
   "metadata": {
    "id": "de80bb3a"
   },
   "source": [
    "*str.isspace()* : Returns True if all characters in the string are whitespace."
   ]
  },
  {
   "cell_type": "code",
   "execution_count": null,
   "id": "a1144f52",
   "metadata": {
    "id": "a1144f52",
    "outputId": "6b6e6e83-4591-4aca-ae46-759f72e3099d"
   },
   "outputs": [
    {
     "name": "stdout",
     "output_type": "stream",
     "text": [
      "True\n",
      "False\n"
     ]
    }
   ],
   "source": [
    "text_1 = \"   \"\n",
    "text_2 = \"   7 \"\n",
    "print(text_1.isspace())\n",
    "print(text_2.isspace())"
   ]
  },
  {
   "cell_type": "markdown",
   "id": "b60ac7a0",
   "metadata": {
    "id": "b60ac7a0"
   },
   "source": [
    "### Regular Expressions\n",
    "\n",
    "Regular expressions (regex) are a powerful tool for matching patterns in text.\n",
    "\n",
    "Python's re module provides support for regex, allowing us to search, match, and manipulate strings efficiently."
   ]
  },
  {
   "cell_type": "markdown",
   "id": "ada4322f",
   "metadata": {
    "id": "ada4322f"
   },
   "source": [
    "**1. Basic Syntax**"
   ]
  },
  {
   "cell_type": "markdown",
   "id": "e750481f",
   "metadata": {
    "id": "e750481f"
   },
   "source": [
    "*Literal Characters* : Matches the exact characters you specify."
   ]
  },
  {
   "cell_type": "code",
   "execution_count": null,
   "id": "2ea8531d",
   "metadata": {
    "id": "2ea8531d",
    "outputId": "daff6711-a286-402e-8a51-acc8f4faa9f2"
   },
   "outputs": [
    {
     "name": "stdout",
     "output_type": "stream",
     "text": [
      "Found: world\n"
     ]
    }
   ],
   "source": [
    "import re\n",
    "text = \"hello world\"\n",
    "match = re.search(r\"world\", text)\n",
    "if match:\n",
    "    print(\"Found:\", match.group())"
   ]
  },
  {
   "cell_type": "markdown",
   "id": "218c38e4",
   "metadata": {
    "id": "218c38e4"
   },
   "source": [
    "*Metacharacters* : Special characters with specific meanings.\n",
    "\n",
    "* . : Matches any character except a newline.\n",
    "* ^ : Matches the start of the string.\n",
    "* $ : Matches the end of the string.\n",
    "* \\* : Matches 0 or more repetitions.\n",
    "* \\+ : Matches 1 or more repetitions.\n",
    "* ? : Matches 0 or 1 repetition.\n",
    "* [ ]: Matches any character inside the brackets.\n",
    "* | : Matches either the pattern before or after the pipe.\n",
    "* ( ) : Groups patterns."
   ]
  },
  {
   "cell_type": "code",
   "execution_count": null,
   "id": "43531f69",
   "metadata": {
    "id": "43531f69",
    "outputId": "a27d4be1-2f5a-47ee-96e0-824f02487083"
   },
   "outputs": [
    {
     "name": "stdout",
     "output_type": "stream",
     "text": [
      "Match found\n"
     ]
    }
   ],
   "source": [
    "import re\n",
    "text = \"The rain in Spain\"\n",
    "match = re.search(r\"^The.*Spain$\", text)\n",
    "if match:\n",
    "    print(\"Match found\")"
   ]
  },
  {
   "cell_type": "markdown",
   "id": "c3a10511",
   "metadata": {
    "id": "c3a10511"
   },
   "source": [
    "**2. Common Methods**"
   ]
  },
  {
   "cell_type": "markdown",
   "id": "b438d542",
   "metadata": {
    "id": "b438d542"
   },
   "source": [
    "*re.search(pattern, string)* : Searches for the first occurrence of the pattern in the string."
   ]
  },
  {
   "cell_type": "code",
   "execution_count": null,
   "id": "b085466a",
   "metadata": {
    "id": "b085466a",
    "outputId": "dedc468d-602f-4706-a14f-0f1fd36a1d36"
   },
   "outputs": [
    {
     "name": "stdout",
     "output_type": "stream",
     "text": [
      "Found: world\n"
     ]
    }
   ],
   "source": [
    "import re\n",
    "text = \"hello world\"\n",
    "match = re.search(r\"world\", text)\n",
    "if match:\n",
    "    print(\"Found:\", match.group())"
   ]
  },
  {
   "cell_type": "markdown",
   "id": "5bd5364b",
   "metadata": {
    "id": "5bd5364b"
   },
   "source": [
    "*re.match(pattern, string)* : Checks for a match only at the beginning of the string."
   ]
  },
  {
   "cell_type": "code",
   "execution_count": null,
   "id": "ee023b3b",
   "metadata": {
    "id": "ee023b3b",
    "outputId": "3a5d87a3-acfa-408b-bb6d-30815dc64ccd"
   },
   "outputs": [
    {
     "name": "stdout",
     "output_type": "stream",
     "text": [
      "Match at the beginning: hello\n"
     ]
    }
   ],
   "source": [
    "import re\n",
    "text = \"hello world\"\n",
    "match = re.match(r\"hello\", text)\n",
    "if match:\n",
    "    print(\"Match at the beginning:\", match.group())"
   ]
  },
  {
   "cell_type": "markdown",
   "id": "f08b1a63",
   "metadata": {
    "id": "f08b1a63"
   },
   "source": [
    "*re.findall(pattern, string)* : Returns a list of all non-overlapping matches in the string."
   ]
  },
  {
   "cell_type": "code",
   "execution_count": null,
   "id": "2957b37f",
   "metadata": {
    "id": "2957b37f",
    "outputId": "b8e69cfb-01f7-4474-f552-a5ee3c7d8735"
   },
   "outputs": [
    {
     "name": "stdout",
     "output_type": "stream",
     "text": [
      "All matches: ['hello', 'hello']\n"
     ]
    }
   ],
   "source": [
    "import re\n",
    "text = \"hello world, hello universe\"\n",
    "matches = re.findall(r\"hello\", text)\n",
    "print(\"All matches:\", matches)"
   ]
  },
  {
   "cell_type": "markdown",
   "id": "f5160295",
   "metadata": {
    "id": "f5160295"
   },
   "source": [
    "*re.sub(pattern, repl, string)* : Replaces occurrences of the pattern with repl in the string."
   ]
  },
  {
   "cell_type": "code",
   "execution_count": null,
   "id": "e583eef9",
   "metadata": {
    "id": "e583eef9",
    "outputId": "af8c801e-f862-4d14-c45d-eafd9343e9e7"
   },
   "outputs": [
    {
     "name": "stdout",
     "output_type": "stream",
     "text": [
      "hello universe\n"
     ]
    }
   ],
   "source": [
    "import re\n",
    "text = \"hello world\"\n",
    "result = re.sub(r\"world\", \"universe\", text)\n",
    "print(result)"
   ]
  },
  {
   "cell_type": "markdown",
   "id": "7b7c3135",
   "metadata": {
    "id": "7b7c3135"
   },
   "source": [
    "**3. Special Sequences**\n",
    "\n",
    "* \\d : Matches any digit (equivalent to [0-9]).\n",
    "* \\D : Matches any non-digit.\n",
    "* \\w : Matches any alphanumeric character (equivalent to [a-zA-Z0-9_]).\n",
    "* \\W : Matches any non-alphanumeric character.\n",
    "* \\s : Matches any whitespace character.\n",
    "* \\S : Matches any non-whitespace character."
   ]
  },
  {
   "cell_type": "code",
   "execution_count": null,
   "id": "0e1076e3",
   "metadata": {
    "id": "0e1076e3",
    "outputId": "c6b5b9a5-8622-4437-efee-82d3aac4d046"
   },
   "outputs": [
    {
     "name": "stdout",
     "output_type": "stream",
     "text": [
      "Digits: ['123']\n"
     ]
    }
   ],
   "source": [
    "import re\n",
    "text = \"hello 123 world\"\n",
    "match = re.findall(r\"\\d+\", text)\n",
    "print(\"Digits:\", match)"
   ]
  },
  {
   "cell_type": "markdown",
   "id": "b37dfbd2",
   "metadata": {
    "id": "b37dfbd2"
   },
   "source": [
    "**4. Anchors**\n",
    "\n",
    "* ^ : Matches the start of the string.\n",
    "* $ : Matches the end of the string."
   ]
  },
  {
   "cell_type": "code",
   "execution_count": null,
   "id": "9b5cfc30",
   "metadata": {
    "id": "9b5cfc30",
    "outputId": "50db4f5c-7375-46d6-e893-1fc7b96e13dc"
   },
   "outputs": [
    {
     "name": "stdout",
     "output_type": "stream",
     "text": [
      "Starts with 'hello'\n"
     ]
    }
   ],
   "source": [
    "import re\n",
    "text = \"hello world\"\n",
    "match = re.search(r\"^hello\", text)\n",
    "if match:\n",
    "    print(\"Starts with 'hello'\")"
   ]
  },
  {
   "cell_type": "markdown",
   "id": "adac0347",
   "metadata": {
    "id": "adac0347"
   },
   "source": [
    "**5. Grouping and Capturing**\n",
    "\n",
    "* ( ) : Groups patterns and captures the matched text.\n",
    "* \\number: Refers to the captured group."
   ]
  },
  {
   "cell_type": "code",
   "execution_count": null,
   "id": "301e607b",
   "metadata": {
    "id": "301e607b",
    "outputId": "164d2e57-63c8-4647-f410-a7d6b529795f"
   },
   "outputs": [
    {
     "name": "stdout",
     "output_type": "stream",
     "text": [
      "Group 1: hello\n",
      "Group 2: world\n"
     ]
    }
   ],
   "source": [
    "import re\n",
    "text = \"hello world\"\n",
    "match = re.search(r\"(hello) (world)\", text)\n",
    "if match:\n",
    "    print(\"Group 1:\", match.group(1))\n",
    "    print(\"Group 2:\", match.group(2))"
   ]
  },
  {
   "cell_type": "markdown",
   "id": "fde34a9a",
   "metadata": {
    "id": "fde34a9a"
   },
   "source": [
    "### Encoding and Decoding\n",
    "\n",
    "Encoding and decoding are fundamental concepts in text processing that allow you to convert strings into bytes and vice versa.\n",
    "\n",
    "This is essential for handling text data, especially when working with different character encodings in various applications.\n",
    "\n",
    "**1. Basic Concepts**\n",
    "\n",
    "*Encoding* : The process of converting a string into a bytes object using a specific character encoding (e.g., UTF-8).\n",
    "\n",
    "*Decoding* : The process of converting a bytes object back into a string using a specific character encoding."
   ]
  },
  {
   "cell_type": "code",
   "execution_count": null,
   "id": "a7ec5dbd",
   "metadata": {
    "id": "a7ec5dbd",
    "outputId": "cc8e2742-1aad-4600-cda6-4a3963318af8"
   },
   "outputs": [
    {
     "name": "stdout",
     "output_type": "stream",
     "text": [
      "b'Hello, World!'\n",
      "Hello, World!\n"
     ]
    }
   ],
   "source": [
    "text = \"Hello, World!\"\n",
    "# encoding\n",
    "encoded_text = text.encode('utf-8')\n",
    "# decoding\n",
    "decoded_text = encoded_text.decode('utf-8')\n",
    "\n",
    "print(encoded_text)\n",
    "print(decoded_text)"
   ]
  },
  {
   "cell_type": "markdown",
   "id": "4e0d7c1d",
   "metadata": {
    "id": "4e0d7c1d"
   },
   "source": [
    "**2. Common Encodings**\n",
    "\n",
    "* UTF-8: A variable-width character encoding capable of encoding all valid Unicode code points.\n",
    "* ASCII: A character encoding standard for electronic communication, representing text in computers.\n",
    "* ISO-8859-1: An 8-bit single-byte coded graphic character sets, part of the ISO/IEC 8859 series."
   ]
  },
  {
   "cell_type": "markdown",
   "id": "44c3b407",
   "metadata": {
    "id": "44c3b407"
   },
   "source": [
    "**3. Encoding a String**\n",
    "\n",
    "*str.encode(encoding)* : Encodes the string using the specified encoding."
   ]
  },
  {
   "cell_type": "code",
   "execution_count": null,
   "id": "5ef0b512",
   "metadata": {
    "id": "5ef0b512",
    "outputId": "cab4ea56-53d7-485c-98ed-fcdac26e75ff"
   },
   "outputs": [
    {
     "name": "stdout",
     "output_type": "stream",
     "text": [
      "b'Hello, World!'\n",
      "b'Hello, World!'\n"
     ]
    }
   ],
   "source": [
    "text = \"Hello, World!\"\n",
    "utf8_encoded = text.encode('utf-8')\n",
    "ascii_encoded = text.encode('ascii')\n",
    "print(utf8_encoded)\n",
    "print(ascii_encoded)"
   ]
  },
  {
   "cell_type": "markdown",
   "id": "a83dee5b",
   "metadata": {
    "id": "a83dee5b"
   },
   "source": [
    "**4. Decoding a Byte Object**\n",
    "\n",
    "*bytes.decode(encoding)* : Decodes the byte object using the specified encoding."
   ]
  },
  {
   "cell_type": "code",
   "execution_count": null,
   "id": "832bf8d9",
   "metadata": {
    "id": "832bf8d9",
    "outputId": "ada83282-72bf-4f01-9721-77ed9e6d1f5b"
   },
   "outputs": [
    {
     "name": "stdout",
     "output_type": "stream",
     "text": [
      "Hello, World!\n"
     ]
    }
   ],
   "source": [
    "utf8_encoded = b'Hello, World!'\n",
    "decoded_text = utf8_encoded.decode('utf-8')\n",
    "print(decoded_text)"
   ]
  },
  {
   "cell_type": "markdown",
   "id": "d7763b50",
   "metadata": {
    "id": "d7763b50"
   },
   "source": [
    "**5. Handling Errors**\n",
    "\n",
    "When encoding or decoding, we may encounter characters that cannot be handled by the specified encoding.\n",
    "\n",
    "Python provides several strategies to handle such errors:\n",
    "\n",
    "* strict: Raises a UnicodeEncodeError or UnicodeDecodeError (default behavior).\n",
    "* ignore: Ignores the unencodable/untranslatable characters.\n",
    "* replace: Replaces unencodable/untranslatable characters with a replacement marker (e.g., ?)."
   ]
  },
  {
   "cell_type": "code",
   "execution_count": null,
   "id": "0fee7952",
   "metadata": {
    "id": "0fee7952",
    "outputId": "59d9898d-1ac8-4b9c-fd7c-010d0696901d"
   },
   "outputs": [
    {
     "name": "stdout",
     "output_type": "stream",
     "text": [
      "Encoding Error: 'ascii' codec can't encode characters in position 14-19: ordinal not in range(128)\n",
      "b'Hello, World! '\n",
      "b'Hello, World! ??????'\n"
     ]
    }
   ],
   "source": [
    "text = \"Hello, World! 你好，世界！\"\n",
    "try:\n",
    "    ascii_encoded = text.encode('ascii')\n",
    "except UnicodeEncodeError as e:\n",
    "    print(\"Encoding Error:\", e)\n",
    "\n",
    "ascii_encoded_ignore = text.encode('ascii', errors='ignore')\n",
    "ascii_encoded_replace = text.encode('ascii', errors='replace')\n",
    "print(ascii_encoded_ignore)\n",
    "print(ascii_encoded_replace)"
   ]
  },
  {
   "cell_type": "markdown",
   "id": "6a8a8436",
   "metadata": {},
   "source": [
    "## Yandex Contest\n",
    "\n",
    "Great work!\n",
    "\n",
    "Here is the link to the tasks in Yandex Contest: https://official.contest.yandex.ru/contest/62953/standings\n",
    "\n",
    "You can test your knowledge and train your skills!"
   ]
  },
  {
   "cell_type": "code",
   "execution_count": null,
   "id": "c9bc7b97",
   "metadata": {},
   "outputs": [],
   "source": []
  }
 ],
 "metadata": {
  "colab": {
   "provenance": []
  },
  "kernelspec": {
   "display_name": "Python 3 (ipykernel)",
   "language": "python",
   "name": "python3"
  },
  "language_info": {
   "codemirror_mode": {
    "name": "ipython",
    "version": 3
   },
   "file_extension": ".py",
   "mimetype": "text/x-python",
   "name": "python",
   "nbconvert_exporter": "python",
   "pygments_lexer": "ipython3",
   "version": "3.9.7"
  }
 },
 "nbformat": 4,
 "nbformat_minor": 5
}
