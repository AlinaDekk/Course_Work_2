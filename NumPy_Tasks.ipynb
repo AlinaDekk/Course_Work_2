{
 "cells": [
  {
   "cell_type": "markdown",
   "id": "ed2e145d",
   "metadata": {},
   "source": [
    "# NumPy Tasks!\n",
    "\n",
    "Hello everyone, in this section you will be provided with several exercises which will help you to better understand the topic.\n",
    "\n",
    "You may check yourself and look at the answers in another file. But don't look at it until you try to solve it yourself ;)\n",
    "\n",
    "Good Luck!"
   ]
  },
  {
   "cell_type": "code",
   "execution_count": 13,
   "id": "d48812f6",
   "metadata": {},
   "outputs": [],
   "source": [
    "import numpy as np"
   ]
  },
  {
   "cell_type": "markdown",
   "id": "5fa999bb",
   "metadata": {},
   "source": [
    "## Task 1\n",
    "\n",
    "How to tell if a given 2D array has null columns?"
   ]
  },
  {
   "cell_type": "markdown",
   "id": "13c25454",
   "metadata": {},
   "source": [
    "## Task 2\n",
    "\n",
    "Considering two arrays with shape (1,3) and (3,1), how to compute their sum"
   ]
  },
  {
   "cell_type": "code",
   "execution_count": 14,
   "id": "1268e51d",
   "metadata": {},
   "outputs": [],
   "source": [
    "# your code"
   ]
  },
  {
   "cell_type": "markdown",
   "id": "5acdaa9d",
   "metadata": {},
   "source": [
    "## Task 3\n",
    "\n",
    "Multiply a 5x3 matrix by a 3x2 matrix (real matrix product)"
   ]
  },
  {
   "cell_type": "code",
   "execution_count": 15,
   "id": "6b27f199",
   "metadata": {},
   "outputs": [],
   "source": [
    "# your code"
   ]
  },
  {
   "cell_type": "markdown",
   "id": "c80fe156",
   "metadata": {},
   "source": [
    "## Task 4\n",
    "\n",
    "Create a null vector of size 10"
   ]
  },
  {
   "cell_type": "code",
   "execution_count": 16,
   "id": "8847578f",
   "metadata": {},
   "outputs": [],
   "source": [
    "# your code"
   ]
  },
  {
   "cell_type": "markdown",
   "id": "aaa48238",
   "metadata": {},
   "source": [
    "## Task 5\n",
    "\n",
    "Find the nearest value from a given value in an array"
   ]
  },
  {
   "cell_type": "code",
   "execution_count": 17,
   "id": "e7ad383a",
   "metadata": {},
   "outputs": [],
   "source": [
    "# your code"
   ]
  }
 ],
 "metadata": {
  "kernelspec": {
   "display_name": "Python 3 (ipykernel)",
   "language": "python",
   "name": "python3"
  },
  "language_info": {
   "codemirror_mode": {
    "name": "ipython",
    "version": 3
   },
   "file_extension": ".py",
   "mimetype": "text/x-python",
   "name": "python",
   "nbconvert_exporter": "python",
   "pygments_lexer": "ipython3",
   "version": "3.9.7"
  }
 },
 "nbformat": 4,
 "nbformat_minor": 5
}
