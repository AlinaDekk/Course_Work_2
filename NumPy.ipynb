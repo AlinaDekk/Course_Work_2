{
 "cells": [
  {
   "cell_type": "markdown",
   "id": "31e3237c",
   "metadata": {},
   "source": [
    "# Programming Course in Python\n",
    "# NumPy"
   ]
  },
  {
   "cell_type": "markdown",
   "id": "7d6c021b",
   "metadata": {},
   "source": [
    "NumPy is a powerful library for numerical computing in Python.\n",
    "\n",
    "It provides support for arrays, matrices, and a wide range of mathematical functions, making it essential for scientific computing and data analysis."
   ]
  },
  {
   "cell_type": "markdown",
   "id": "5966f545",
   "metadata": {},
   "source": [
    "First of all, we need to install the library the following way:\n",
    "\n",
    "**!pip install numpy**\n",
    "\n",
    "Once it is installed, we can import it and use in our code"
   ]
  },
  {
   "cell_type": "code",
   "execution_count": 10,
   "id": "d1eb759b",
   "metadata": {},
   "outputs": [],
   "source": [
    "import numpy as np"
   ]
  },
  {
   "cell_type": "markdown",
   "id": "02f0a224",
   "metadata": {},
   "source": [
    "## Array Creation\n",
    "\n",
    "Creating arrays is a fundamental part of using NumPy.\n",
    "\n",
    "Arrays in NumPy can be created in several ways, each suited for different needs and types of data.\n",
    "\n",
    "We will discuss some of the most common methods for creating arrays in NumPy."
   ]
  },
  {
   "cell_type": "markdown",
   "id": "3ccce177",
   "metadata": {},
   "source": [
    "**1. Creating Arrays from Lists**\n",
    "\n",
    "* np.array() function"
   ]
  },
  {
   "cell_type": "code",
   "execution_count": 3,
   "id": "bd8d2356",
   "metadata": {},
   "outputs": [
    {
     "name": "stdout",
     "output_type": "stream",
     "text": [
      "[1 2 3 4 5]\n",
      "[[1 2 3]\n",
      " [4 5 6]\n",
      " [7 8 9]]\n"
     ]
    }
   ],
   "source": [
    "# Creating a 1D array\n",
    "list_1d = [1, 2, 3, 4, 5]\n",
    "array_1d = np.array(list_1d)\n",
    "print(array_1d)\n",
    "\n",
    "# Creating a 2D array\n",
    "list_2d = [[1, 2, 3], [4, 5, 6], [7, 8, 9]]\n",
    "array_2d = np.array(list_2d)\n",
    "print(array_2d)"
   ]
  },
  {
   "cell_type": "markdown",
   "id": "87cfa82b",
   "metadata": {},
   "source": [
    "**2. Using Built-in Functions**\n",
    "\n",
    "* np.zeros()\n",
    "\n",
    "Creates an array filled with zeros. "
   ]
  },
  {
   "cell_type": "code",
   "execution_count": 4,
   "id": "7c54a9ef",
   "metadata": {},
   "outputs": [
    {
     "name": "stdout",
     "output_type": "stream",
     "text": [
      "[0. 0. 0. 0. 0.]\n",
      "[[0. 0. 0.]\n",
      " [0. 0. 0.]\n",
      " [0. 0. 0.]]\n"
     ]
    }
   ],
   "source": [
    "# 1D array of zeros\n",
    "zeros_1d = np.zeros(5)\n",
    "print(zeros_1d)\n",
    "\n",
    "# 2D array of zeros\n",
    "zeros_2d = np.zeros((3, 3))\n",
    "print(zeros_2d)"
   ]
  },
  {
   "cell_type": "markdown",
   "id": "98f57ef5",
   "metadata": {},
   "source": [
    "* np.ones()\n",
    "\n",
    "Creates an array filled with ones. You can specify the shape of the array."
   ]
  },
  {
   "cell_type": "code",
   "execution_count": 5,
   "id": "9155ee0f",
   "metadata": {},
   "outputs": [
    {
     "name": "stdout",
     "output_type": "stream",
     "text": [
      "[1. 1. 1. 1. 1.]\n",
      "[[1. 1. 1.]\n",
      " [1. 1. 1.]\n",
      " [1. 1. 1.]]\n"
     ]
    }
   ],
   "source": [
    "# 1D array of ones\n",
    "ones_1d = np.ones(5)\n",
    "print(ones_1d)\n",
    "\n",
    "# 2D array of ones\n",
    "ones_2d = np.ones((3, 3))\n",
    "print(ones_2d)"
   ]
  },
  {
   "cell_type": "markdown",
   "id": "3bd9787b",
   "metadata": {},
   "source": [
    "* np.full()\n",
    "\n",
    "Creates an array filled with a specified value."
   ]
  },
  {
   "cell_type": "code",
   "execution_count": 6,
   "id": "d33acb47",
   "metadata": {},
   "outputs": [
    {
     "name": "stdout",
     "output_type": "stream",
     "text": [
      "[7 7 7 7 7]\n",
      "[[7 7 7]\n",
      " [7 7 7]\n",
      " [7 7 7]]\n"
     ]
    }
   ],
   "source": [
    "# 1D array filled with 7\n",
    "full_1d = np.full(5, 7)\n",
    "print(full_1d)\n",
    "\n",
    "# 2D array filled with 7\n",
    "full_2d = np.full((3, 3), 7)\n",
    "print(full_2d)"
   ]
  },
  {
   "cell_type": "markdown",
   "id": "226b9a44",
   "metadata": {},
   "source": [
    "* np.arange()\n",
    "\n",
    "Creates an array with a range of values."
   ]
  },
  {
   "cell_type": "code",
   "execution_count": 7,
   "id": "ad340bff",
   "metadata": {},
   "outputs": [
    {
     "name": "stdout",
     "output_type": "stream",
     "text": [
      "[0 1 2 3 4 5 6 7 8 9]\n",
      "[1 3 5 7 9]\n"
     ]
    }
   ],
   "source": [
    "# Array with values from 0 to 9\n",
    "range_array = np.arange(10)\n",
    "print(range_array)\n",
    "\n",
    "# Array with values from 1 to 10 with a step of 2\n",
    "range_array_step = np.arange(1, 11, 2)\n",
    "print(range_array_step)"
   ]
  },
  {
   "cell_type": "markdown",
   "id": "86145ef4",
   "metadata": {},
   "source": [
    "* np.linspace()\n",
    "\n",
    "Creates an array with evenly spaced values over a specified interval."
   ]
  },
  {
   "cell_type": "code",
   "execution_count": 8,
   "id": "28101e6e",
   "metadata": {},
   "outputs": [
    {
     "name": "stdout",
     "output_type": "stream",
     "text": [
      "[0.   0.25 0.5  0.75 1.  ]\n"
     ]
    }
   ],
   "source": [
    "# Array with 5 values evenly spaced between 0 and 1\n",
    "linspace_array = np.linspace(0, 1, 5)\n",
    "print(linspace_array)"
   ]
  },
  {
   "cell_type": "markdown",
   "id": "9c26fc30",
   "metadata": {},
   "source": [
    "* np.eye()\n",
    "\n",
    "Creates an identity matrix."
   ]
  },
  {
   "cell_type": "code",
   "execution_count": 9,
   "id": "373ff0b6",
   "metadata": {},
   "outputs": [
    {
     "name": "stdout",
     "output_type": "stream",
     "text": [
      "[[1. 0. 0.]\n",
      " [0. 1. 0.]\n",
      " [0. 0. 1.]]\n"
     ]
    }
   ],
   "source": [
    "# 3x3 Identity matrix\n",
    "identity_matrix = np.eye(3)\n",
    "print(identity_matrix)"
   ]
  },
  {
   "cell_type": "markdown",
   "id": "1c9df14b",
   "metadata": {},
   "source": [
    "## Array Attributes\n",
    "\n",
    "Understanding the attributes of NumPy arrays is crucial for effective array manipulation and operations.\n",
    "\n",
    "These attributes provide information about the array's structure, data type, and other properties.\n",
    "\n",
    "Let's learn some essential array attributes in NumPy."
   ]
  },
  {
   "cell_type": "markdown",
   "id": "4bae6985",
   "metadata": {},
   "source": [
    "**1. ndarray.ndim**\n",
    "\n",
    "This attribute returns the number of dimensions (axes) of the array."
   ]
  },
  {
   "cell_type": "code",
   "execution_count": 11,
   "id": "aea92588",
   "metadata": {},
   "outputs": [
    {
     "name": "stdout",
     "output_type": "stream",
     "text": [
      "1\n",
      "2\n"
     ]
    }
   ],
   "source": [
    "array_1d = np.array([1, 2, 3])\n",
    "array_2d = np.array([[1, 2, 3], [4, 5, 6]])\n",
    "print(array_1d.ndim)\n",
    "print(array_2d.ndim)"
   ]
  },
  {
   "cell_type": "markdown",
   "id": "49a5c60d",
   "metadata": {},
   "source": [
    "**2. ndarray.shape**\n",
    "\n",
    "This attribute returns a tuple representing the dimensions of the array.\n",
    "\n",
    "For a 2D array, it returns (rows, columns)."
   ]
  },
  {
   "cell_type": "code",
   "execution_count": 12,
   "id": "887e7c18",
   "metadata": {},
   "outputs": [
    {
     "name": "stdout",
     "output_type": "stream",
     "text": [
      "(3,)\n",
      "(2, 3)\n"
     ]
    }
   ],
   "source": [
    "array_1d = np.array([1, 2, 3])\n",
    "array_2d = np.array([[1, 2, 3], [4, 5, 6]])\n",
    "print(array_1d.shape)\n",
    "print(array_2d.shape)"
   ]
  },
  {
   "cell_type": "markdown",
   "id": "b48f7709",
   "metadata": {},
   "source": [
    "**3. ndarray.size**\n",
    "\n",
    "This attribute returns the total number of elements in the array."
   ]
  },
  {
   "cell_type": "code",
   "execution_count": 13,
   "id": "9995769f",
   "metadata": {},
   "outputs": [
    {
     "name": "stdout",
     "output_type": "stream",
     "text": [
      "3\n",
      "6\n"
     ]
    }
   ],
   "source": [
    "array_1d = np.array([1, 2, 3])\n",
    "array_2d = np.array([[1, 2, 3], [4, 5, 6]])\n",
    "print(array_1d.size)\n",
    "print(array_2d.size)"
   ]
  },
  {
   "cell_type": "markdown",
   "id": "e97ae9f8",
   "metadata": {},
   "source": [
    "**4. ndarray.dtype**\n",
    "\n",
    "This attribute returns the data type of the elements in the array."
   ]
  },
  {
   "cell_type": "code",
   "execution_count": 14,
   "id": "5abfa2f6",
   "metadata": {},
   "outputs": [
    {
     "name": "stdout",
     "output_type": "stream",
     "text": [
      "int64\n",
      "float64\n"
     ]
    }
   ],
   "source": [
    "array_int = np.array([1, 2, 3])\n",
    "array_float = np.array([1.0, 2.0, 3.0])\n",
    "print(array_int.dtype)\n",
    "print(array_float.dtype)"
   ]
  },
  {
   "cell_type": "markdown",
   "id": "e5c5fb93",
   "metadata": {},
   "source": [
    "**5. ndarray.itemsize**\n",
    "\n",
    "This attribute returns the size (in bytes) of each element in the array."
   ]
  },
  {
   "cell_type": "code",
   "execution_count": 15,
   "id": "eb712183",
   "metadata": {},
   "outputs": [
    {
     "name": "stdout",
     "output_type": "stream",
     "text": [
      "8\n",
      "8\n"
     ]
    }
   ],
   "source": [
    "array_int = np.array([1, 2, 3])\n",
    "array_float = np.array([1.0, 2.0, 3.0])\n",
    "print(array_int.itemsize)\n",
    "print(array_float.itemsize)"
   ]
  },
  {
   "cell_type": "markdown",
   "id": "3441f223",
   "metadata": {},
   "source": [
    "**6. ndarray.nbytes**\n",
    "\n",
    "This attribute returns the total number of bytes consumed by the elements of the array."
   ]
  },
  {
   "cell_type": "code",
   "execution_count": 16,
   "id": "87985fd2",
   "metadata": {},
   "outputs": [
    {
     "name": "stdout",
     "output_type": "stream",
     "text": [
      "24\n",
      "24\n"
     ]
    }
   ],
   "source": [
    "array_int = np.array([1, 2, 3])\n",
    "array_float = np.array([1.0, 2.0, 3.0])\n",
    "print(array_int.nbytes) # (3 elements * 8 bytes each)\n",
    "print(array_float.nbytes)"
   ]
  },
  {
   "cell_type": "markdown",
   "id": "3cdc185f",
   "metadata": {},
   "source": [
    "**7. ndarray.T**\n",
    "\n",
    "This attribute returns the transposed array (rows become columns and vice versa).\n",
    "\n",
    "It is mainly used for 2D arrays."
   ]
  },
  {
   "cell_type": "code",
   "execution_count": 17,
   "id": "a664fbe0",
   "metadata": {},
   "outputs": [
    {
     "name": "stdout",
     "output_type": "stream",
     "text": [
      "[[1 4]\n",
      " [2 5]\n",
      " [3 6]]\n"
     ]
    }
   ],
   "source": [
    "array_2d = np.array([[1, 2, 3], [4, 5, 6]])\n",
    "print(array_2d.T)"
   ]
  },
  {
   "cell_type": "markdown",
   "id": "1fe8f975",
   "metadata": {},
   "source": [
    "## Array Indexing\n",
    "\n",
    "Array indexing allows us to access and manipulate elements within the array.\n",
    "\n",
    "NumPy supports a variety of indexing techniques we are going to discuss."
   ]
  },
  {
   "cell_type": "markdown",
   "id": "69a66e63",
   "metadata": {},
   "source": [
    "**1. Basic Indexing**\n",
    "\n",
    "Works similarly to Python lists, allowing us to access individual elements using their indices."
   ]
  },
  {
   "cell_type": "code",
   "execution_count": 18,
   "id": "3f47bb1f",
   "metadata": {},
   "outputs": [
    {
     "name": "stdout",
     "output_type": "stream",
     "text": [
      "10\n",
      "50\n",
      "1\n",
      "6\n"
     ]
    }
   ],
   "source": [
    "array_1d = np.array([10, 20, 30, 40, 50])\n",
    "print(array_1d[0])  # Output: 10\n",
    "print(array_1d[4])  # Output: 50\n",
    "\n",
    "array_2d = np.array([[1, 2, 3], [4, 5, 6], [7, 8, 9]])\n",
    "print(array_2d[0, 0])  # Output: 1\n",
    "print(array_2d[1, 2])  # Output: 6"
   ]
  },
  {
   "cell_type": "markdown",
   "id": "ab57ebc0",
   "metadata": {},
   "source": [
    "**2. Boolean Indexing**\n",
    "\n",
    "Boolean indexing allows us to filter elements based on conditions.\n",
    "\n",
    "For a better understanding let's go through an example"
   ]
  },
  {
   "cell_type": "code",
   "execution_count": 20,
   "id": "3e155223",
   "metadata": {},
   "outputs": [
    {
     "name": "stdout",
     "output_type": "stream",
     "text": [
      "[30 40 50]\n",
      "[6 7 8 9]\n"
     ]
    }
   ],
   "source": [
    "array_1d = np.array([10, 20, 30, 40, 50])\n",
    "bool_idx = array_1d > 25 # check whether the value is greater than 25\n",
    "print(array_1d[bool_idx])  # Output: [30 40 50]\n",
    "\n",
    "array_2d = np.array([[1, 2, 3], [4, 5, 6], [7, 8, 9]])\n",
    "bool_idx = array_2d > 5 # check whether the value is greater than 5\n",
    "print(array_2d[bool_idx])  # Output: [6 7 8 9]"
   ]
  },
  {
   "cell_type": "markdown",
   "id": "dc0449b0",
   "metadata": {},
   "source": [
    "**3. Fancy Indexing**\n",
    "\n",
    "Fancy indexing allows us to access multiple elements using arrays of indices."
   ]
  },
  {
   "cell_type": "code",
   "execution_count": 21,
   "id": "c9729b84",
   "metadata": {},
   "outputs": [
    {
     "name": "stdout",
     "output_type": "stream",
     "text": [
      "[20 40 50]\n",
      "[3 5 7]\n"
     ]
    }
   ],
   "source": [
    "array_1d = np.array([10, 20, 30, 40, 50])\n",
    "indices = [1, 3, 4]\n",
    "print(array_1d[indices])  # Output: [20 40 50]\n",
    "\n",
    "array_2d = np.array([[1, 2, 3], [4, 5, 6], [7, 8, 9]])\n",
    "row_indices = [0, 1, 2]\n",
    "col_indices = [2, 1, 0]\n",
    "print(array_2d[row_indices, col_indices])  # Output: [3 5 7]"
   ]
  },
  {
   "cell_type": "markdown",
   "id": "5f37985a",
   "metadata": {},
   "source": [
    "**5. Integer Array Indexing**\n",
    "\n",
    "Integer array indexing allows us to use arrays of integers to index another array."
   ]
  },
  {
   "cell_type": "code",
   "execution_count": 22,
   "id": "d132624e",
   "metadata": {},
   "outputs": [
    {
     "name": "stdout",
     "output_type": "stream",
     "text": [
      "[2 3 6]\n"
     ]
    }
   ],
   "source": [
    "array_2d = np.array([[1, 2], [3, 4], [5, 6]])\n",
    "row_indices = np.array([0, 1, 2])\n",
    "col_indices = np.array([1, 0, 1])\n",
    "print(array_2d[row_indices, col_indices])"
   ]
  },
  {
   "cell_type": "markdown",
   "id": "7b598044",
   "metadata": {},
   "source": [
    "## Array Slicing\n",
    "\n",
    "Slicing allows you to access parts of an array or manipulate sections of an array efficiently."
   ]
  },
  {
   "cell_type": "markdown",
   "id": "09107690",
   "metadata": {},
   "source": [
    "**1. Basic Slicing**\n",
    "\n",
    "Basic slicing in NumPy works similarly to Python lists.\n",
    "\n",
    "We use the colon (:) operator to specify the start, stop, and step of the slice.\n",
    "\n",
    "array[start:stop:step]\n",
    "\n",
    "* start: The index where the slice starts (inclusive).\n",
    "* stop: The index where the slice ends (exclusive).\n",
    "* step: The step size or interval between indices."
   ]
  },
  {
   "cell_type": "code",
   "execution_count": 23,
   "id": "9f7c26d5",
   "metadata": {},
   "outputs": [
    {
     "name": "stdout",
     "output_type": "stream",
     "text": [
      "[20 30 40]\n",
      "[[4 5]\n",
      " [7 8]]\n"
     ]
    }
   ],
   "source": [
    "# 1D array slicing\n",
    "array_1d = np.array([10, 20, 30, 40, 50])\n",
    "print(array_1d[1:4])\n",
    "\n",
    "# 2D array slicing\n",
    "array_2d = np.array([[1, 2, 3], [4, 5, 6], [7, 8, 9]])\n",
    "print(array_2d[1:, :2])"
   ]
  },
  {
   "cell_type": "markdown",
   "id": "befdee3b",
   "metadata": {},
   "source": [
    "**2. Omitting Indices**\n",
    "\n",
    "We can omit the start, stop, or step indices, and NumPy will assume default values:\n",
    "\n",
    "start = 0, stop = size of the dimension, step = 1."
   ]
  },
  {
   "cell_type": "code",
   "execution_count": 24,
   "id": "36e5c43c",
   "metadata": {},
   "outputs": [
    {
     "name": "stdout",
     "output_type": "stream",
     "text": [
      "[10 20 30]\n",
      "[30 40 50]\n",
      "[10 30 50]\n",
      "[2 5 8]\n",
      "[4 5 6]\n"
     ]
    }
   ],
   "source": [
    "array_1d = np.array([10, 20, 30, 40, 50])\n",
    "print(array_1d[:3])   # Output: [10 20 30]\n",
    "print(array_1d[2:])   # Output: [30 40 50]\n",
    "print(array_1d[::2])  # Output: [10 30 50]\n",
    "\n",
    "array_2d = np.array([[1, 2, 3], [4, 5, 6], [7, 8, 9]])\n",
    "print(array_2d[:, 1])  # Output: [2 5 8] (all rows, second column)\n",
    "print(array_2d[1, :])  # Output: [4 5 6] (second row, all columns)"
   ]
  },
  {
   "cell_type": "markdown",
   "id": "b5ee9047",
   "metadata": {},
   "source": [
    "**3. Negative Indexing**\n",
    "\n",
    "Negative indices count from the end of the array.\n",
    "\n",
    "This can be useful for accessing the last elements of the array."
   ]
  },
  {
   "cell_type": "code",
   "execution_count": 25,
   "id": "49e457f7",
   "metadata": {},
   "outputs": [
    {
     "name": "stdout",
     "output_type": "stream",
     "text": [
      "[30 40 50]\n",
      "[10 20 30]\n",
      "[[5 6]\n",
      " [8 9]]\n"
     ]
    }
   ],
   "source": [
    "array_1d = np.array([10, 20, 30, 40, 50])\n",
    "print(array_1d[-3:])  # Output: [30 40 50]\n",
    "print(array_1d[:-2])  # Output: [10 20 30]\n",
    "\n",
    "array_2d = np.array([[1, 2, 3], [4, 5, 6], [7, 8, 9]])\n",
    "print(array_2d[-2:, -2:])\n",
    "# Output:\n",
    "# [[5 6]\n",
    "#  [8 9]]"
   ]
  },
  {
   "cell_type": "markdown",
   "id": "a25bc562",
   "metadata": {},
   "source": [
    "**4. Multi-dimensional Slicing**\n",
    "\n",
    "Slicing can be applied to multi-dimensional arrays by specifying slices for each dimension."
   ]
  },
  {
   "cell_type": "code",
   "execution_count": 26,
   "id": "90d92ab5",
   "metadata": {},
   "outputs": [
    {
     "name": "stdout",
     "output_type": "stream",
     "text": [
      "[[ 4  5  6]\n",
      " [10 11 12]]\n",
      "[[ 2  5]\n",
      " [ 8 11]\n",
      " [14 17]]\n"
     ]
    }
   ],
   "source": [
    "array_3d = np.array([[[1, 2, 3], [4, 5, 6]], \n",
    "                     [[7, 8, 9], [10, 11, 12]], \n",
    "                     [[13, 14, 15], [16, 17, 18]]])\n",
    "\n",
    "print(array_3d[:2, 1, :])\n",
    "# Output:\n",
    "# [[ 4  5  6]\n",
    "#  [10 11 12]]\n",
    "\n",
    "print(array_3d[:, :, 1])\n",
    "# Output:\n",
    "# [[ 2  5]\n",
    "#  [ 8 11]\n",
    "#  [14 17]]"
   ]
  },
  {
   "cell_type": "markdown",
   "id": "3da71fa6",
   "metadata": {},
   "source": [
    "**5. Step Slicing**\n",
    "\n",
    "You can specify a step to skip elements in the array.\n",
    "\n",
    "A negative step value can be used to reverse the array."
   ]
  },
  {
   "cell_type": "code",
   "execution_count": 27,
   "id": "b6ac5b05",
   "metadata": {},
   "outputs": [
    {
     "name": "stdout",
     "output_type": "stream",
     "text": [
      "[10 30 50]\n",
      "[50 40 30 20 10]\n",
      "[[1 3]\n",
      " [7 9]]\n"
     ]
    }
   ],
   "source": [
    "array_1d = np.array([10, 20, 30, 40, 50])\n",
    "print(array_1d[::2])   # Output: [10 30 50] (every second element)\n",
    "print(array_1d[::-1])  # Output: [50 40 30 20 10] (reversed array)\n",
    "\n",
    "array_2d = np.array([[1, 2, 3], [4, 5, 6], [7, 8, 9]])\n",
    "print(array_2d[::2, ::2])\n",
    "# Output:\n",
    "# [[1 3]\n",
    "#  [7 9]]"
   ]
  },
  {
   "cell_type": "markdown",
   "id": "3d072e58",
   "metadata": {},
   "source": [
    "## Array Mathematics\n",
    "\n",
    "NumPy provides a wide range of mathematical operations that can be performed on arrays.\n",
    "\n",
    "These operations include basic arithmetic, statistical calculations, and more complex mathematical functions."
   ]
  },
  {
   "cell_type": "markdown",
   "id": "abb57608",
   "metadata": {},
   "source": [
    "**1. Basic Arithmetic Operations**\n",
    "\n",
    "* Addition\n",
    "* Substraction\n",
    "* Multiplication\n",
    "* Division"
   ]
  },
  {
   "cell_type": "code",
   "execution_count": 29,
   "id": "bacc3bfd",
   "metadata": {},
   "outputs": [
    {
     "name": "stdout",
     "output_type": "stream",
     "text": [
      "[5 7 9]\n",
      "[-3 -3 -3]\n",
      "[ 4 10 18]\n",
      "[0.25 0.4  0.5 ]\n"
     ]
    }
   ],
   "source": [
    "array1 = np.array([1, 2, 3])\n",
    "array2 = np.array([4, 5, 6])\n",
    "\n",
    "# Addition\n",
    "sum_array = array1 + array2\n",
    "print(sum_array)  # Output: [5 7 9]\n",
    "\n",
    "# Subtraction\n",
    "diff_array = array1 - array2\n",
    "print(diff_array)  # Output: [-3 -3 -3]\n",
    "\n",
    "# Multiplication\n",
    "product_array = array1 * array2\n",
    "print(product_array)  # Output: [ 4 10 18]\n",
    "\n",
    "# Division\n",
    "quotient_array = array1 / array2\n",
    "print(quotient_array)  # Output: [0.25 0.4  0.5 ]"
   ]
  },
  {
   "cell_type": "markdown",
   "id": "0a779cdf",
   "metadata": {},
   "source": [
    "**2. Scalar Operations**\n",
    "\n",
    "We can also perform operations between arrays and scalars, applying the operation to each element of the array."
   ]
  },
  {
   "cell_type": "code",
   "execution_count": 30,
   "id": "38cad016",
   "metadata": {},
   "outputs": [
    {
     "name": "stdout",
     "output_type": "stream",
     "text": [
      "[6 7 8]\n",
      "[2 4 6]\n"
     ]
    }
   ],
   "source": [
    "array = np.array([1, 2, 3])\n",
    "\n",
    "# Scalar addition\n",
    "sum_scalar = array + 5\n",
    "print(sum_scalar)  # Output: [6 7 8]\n",
    "\n",
    "# Scalar multiplication\n",
    "product_scalar = array * 2\n",
    "print(product_scalar)  # Output: [2 4 6]"
   ]
  },
  {
   "cell_type": "markdown",
   "id": "49cc8dd7",
   "metadata": {},
   "source": [
    "**3. Statistical Operations**\n",
    "\n",
    "NumPy provides a range of statistical functions to compute:\n",
    "* mean\n",
    "* median\n",
    "* standard deviation\n",
    "* variance\n",
    "* etc"
   ]
  },
  {
   "cell_type": "code",
   "execution_count": 31,
   "id": "8e28acba",
   "metadata": {},
   "outputs": [
    {
     "name": "stdout",
     "output_type": "stream",
     "text": [
      "3.0\n",
      "3.0\n",
      "1.4142135623730951\n",
      "2.0\n"
     ]
    }
   ],
   "source": [
    "array = np.array([1, 2, 3, 4, 5])\n",
    "\n",
    "# Mean\n",
    "mean_value = np.mean(array)\n",
    "print(mean_value)  # Output: 3.0\n",
    "\n",
    "# Median\n",
    "median_value = np.median(array)\n",
    "print(median_value)  # Output: 3.0\n",
    "\n",
    "# Standard Deviation\n",
    "std_value = np.std(array)\n",
    "print(std_value)  # Output: 1.4142135623730951\n",
    "\n",
    "# Variance\n",
    "var_value = np.var(array)\n",
    "print(var_value)  # Output: 2.0"
   ]
  },
  {
   "cell_type": "markdown",
   "id": "1cd25a6c",
   "metadata": {},
   "source": [
    "**4. Trigonometric Functions**\n",
    "\n",
    "Such as sine, cosine, and tangent."
   ]
  },
  {
   "cell_type": "code",
   "execution_count": 32,
   "id": "bbfd82b5",
   "metadata": {},
   "outputs": [
    {
     "name": "stdout",
     "output_type": "stream",
     "text": [
      "[0.0000000e+00 1.0000000e+00 1.2246468e-16]\n",
      "[ 1.000000e+00  6.123234e-17 -1.000000e+00]\n",
      "[ 0.00000000e+00  1.63312394e+16 -1.22464680e-16]\n"
     ]
    }
   ],
   "source": [
    "angles = np.array([0, np.pi/2, np.pi])\n",
    "\n",
    "# Sine\n",
    "sin_values = np.sin(angles)\n",
    "print(sin_values)  # Output: [0. 1. 0.]\n",
    "\n",
    "# Cosine\n",
    "cos_values = np.cos(angles)\n",
    "print(cos_values)  # Output: [ 1.  0. -1.]\n",
    "\n",
    "# Tangent\n",
    "tan_values = np.tan(angles)\n",
    "print(tan_values)  # Output: [ 0.  1.63312394e+16  0.]"
   ]
  },
  {
   "cell_type": "markdown",
   "id": "91da4ddb",
   "metadata": {},
   "source": [
    "**5. Exponential and Logarithmic Functions**"
   ]
  },
  {
   "cell_type": "code",
   "execution_count": 33,
   "id": "0e45f23d",
   "metadata": {},
   "outputs": [
    {
     "name": "stdout",
     "output_type": "stream",
     "text": [
      "[ 2.71828183  7.3890561  20.08553692]\n",
      "[0.         0.69314718 1.09861229]\n",
      "[0.         0.30103    0.47712125]\n"
     ]
    }
   ],
   "source": [
    "array = np.array([1, 2, 3])\n",
    "\n",
    "# Exponential\n",
    "exp_values = np.exp(array)\n",
    "print(exp_values)  # Output: [ 2.71828183  7.3890561  20.08553692]\n",
    "\n",
    "# Natural Logarithm\n",
    "log_values = np.log(array)\n",
    "print(log_values)  # Output: [0.         0.69314718 1.09861229]\n",
    "\n",
    "# Logarithm base 10\n",
    "log10_values = np.log10(array)\n",
    "print(log10_values)  # Output: [0.         0.30103    0.47712125]"
   ]
  },
  {
   "cell_type": "markdown",
   "id": "416945f9",
   "metadata": {},
   "source": [
    "**6. Aggregate Functions**\n",
    "\n",
    "NumPy provides various aggregate functions that operate along specified axes."
   ]
  },
  {
   "cell_type": "code",
   "execution_count": 34,
   "id": "ad91d128",
   "metadata": {},
   "outputs": [
    {
     "name": "stdout",
     "output_type": "stream",
     "text": [
      "21\n",
      "[5 7 9]\n",
      "[ 6 15]\n"
     ]
    }
   ],
   "source": [
    "array = np.array([[1, 2, 3], [4, 5, 6]])\n",
    "\n",
    "# Sum\n",
    "total_sum = np.sum(array)\n",
    "print(total_sum)  # Output: 21\n",
    "\n",
    "# Sum along axis 0 (columns)\n",
    "sum_axis0 = np.sum(array, axis=0)\n",
    "print(sum_axis0)  # Output: [5 7 9]\n",
    "\n",
    "# Sum along axis 1 (rows)\n",
    "sum_axis1 = np.sum(array, axis=1)\n",
    "print(sum_axis1)  # Output: [ 6 15]"
   ]
  },
  {
   "cell_type": "markdown",
   "id": "bd74fe7f",
   "metadata": {},
   "source": [
    "## Aggregation Functions in NumPy\n",
    "\n",
    "As we touched on the topic of Aggregate Functions, let's discuss it deeply.\n",
    "\n",
    "Aggregation functions in NumPy are used to compute summary statistics and other aggregate values from arrays.\n",
    "\n",
    "These functions are crucial for data analysis, providing insights into the data through measures like sums, means, medians, variances, and more.\n",
    "\n",
    "Here are some common aggregation functions provided by NumPy."
   ]
  },
  {
   "cell_type": "markdown",
   "id": "b5a167cc",
   "metadata": {},
   "source": [
    "**1. Sum**"
   ]
  },
  {
   "cell_type": "code",
   "execution_count": 35,
   "id": "064d75e1",
   "metadata": {},
   "outputs": [
    {
     "name": "stdout",
     "output_type": "stream",
     "text": [
      "21\n",
      "[5 7 9]\n",
      "[ 6 15]\n"
     ]
    }
   ],
   "source": [
    "array = np.array([[1, 2, 3], [4, 5, 6]])\n",
    "\n",
    "# Sum of all elements\n",
    "total_sum = np.sum(array)\n",
    "print(total_sum)  # Output: 21\n",
    "\n",
    "# Sum along axis 0 (columns)\n",
    "sum_axis0 = np.sum(array, axis=0)\n",
    "print(sum_axis0)  # Output: [5 7 9]\n",
    "\n",
    "# Sum along axis 1 (rows)\n",
    "sum_axis1 = np.sum(array, axis=1)\n",
    "print(sum_axis1)  # Output: [ 6 15]"
   ]
  },
  {
   "cell_type": "markdown",
   "id": "84dbe2a0",
   "metadata": {},
   "source": [
    "**2. Mean**"
   ]
  },
  {
   "cell_type": "code",
   "execution_count": 36,
   "id": "03207ac5",
   "metadata": {},
   "outputs": [
    {
     "name": "stdout",
     "output_type": "stream",
     "text": [
      "3.5\n",
      "[2.5 3.5 4.5]\n",
      "[2. 5.]\n"
     ]
    }
   ],
   "source": [
    "array = np.array([[1, 2, 3], [4, 5, 6]])\n",
    "\n",
    "# Mean of all elements\n",
    "mean_value = np.mean(array)\n",
    "print(mean_value)  # Output: 3.5\n",
    "\n",
    "# Mean along axis 0 (columns)\n",
    "mean_axis0 = np.mean(array, axis=0)\n",
    "print(mean_axis0)  # Output: [2.5 3.5 4.5]\n",
    "\n",
    "# Mean along axis 1 (rows)\n",
    "mean_axis1 = np.mean(array, axis=1)\n",
    "print(mean_axis1)  # Output: [2. 5.]"
   ]
  },
  {
   "cell_type": "markdown",
   "id": "640907fc",
   "metadata": {},
   "source": [
    "**3. Median**"
   ]
  },
  {
   "cell_type": "code",
   "execution_count": 37,
   "id": "061c0d42",
   "metadata": {},
   "outputs": [
    {
     "name": "stdout",
     "output_type": "stream",
     "text": [
      "3.5\n",
      "[2.5 3.5 4.5]\n",
      "[2. 5.]\n"
     ]
    }
   ],
   "source": [
    "array = np.array([[1, 2, 3], [4, 5, 6]])\n",
    "\n",
    "# Median of all elements\n",
    "median_value = np.median(array)\n",
    "print(median_value)  # Output: 3.5\n",
    "\n",
    "# Median along axis 0 (columns)\n",
    "median_axis0 = np.median(array, axis=0)\n",
    "print(median_axis0)  # Output: [2.5 3.5 4.5]\n",
    "\n",
    "# Median along axis 1 (rows)\n",
    "median_axis1 = np.median(array, axis=1)\n",
    "print(median_axis1)  # Output: [2. 5.]"
   ]
  },
  {
   "cell_type": "markdown",
   "id": "9c80a938",
   "metadata": {},
   "source": [
    "**4. Standard Deviation**\n",
    "\n",
    "The np.std() function computes the standard deviation of array elements along a specified axis."
   ]
  },
  {
   "cell_type": "code",
   "execution_count": 38,
   "id": "f73fd2a4",
   "metadata": {},
   "outputs": [
    {
     "name": "stdout",
     "output_type": "stream",
     "text": [
      "1.707825127659933\n",
      "[1.5 1.5 1.5]\n",
      "[0.81649658 0.81649658]\n"
     ]
    }
   ],
   "source": [
    "array = np.array([[1, 2, 3], [4, 5, 6]])\n",
    "\n",
    "# Standard deviation of all elements\n",
    "std_value = np.std(array)\n",
    "print(std_value)  # Output: 1.707825127659933\n",
    "\n",
    "# Standard deviation along axis 0 (columns)\n",
    "std_axis0 = np.std(array, axis=0)\n",
    "print(std_axis0)  # Output: [1.5 1.5 1.5]\n",
    "\n",
    "# Standard deviation along axis 1 (rows)\n",
    "std_axis1 = np.std(array, axis=1)\n",
    "print(std_axis1)  # Output: [0.81649658 0.81649658]"
   ]
  },
  {
   "cell_type": "markdown",
   "id": "bbef4aff",
   "metadata": {},
   "source": [
    "**5. Variance**\n",
    "\n",
    "The np.var() function computes the variance of array elements along a specified axis."
   ]
  },
  {
   "cell_type": "code",
   "execution_count": 39,
   "id": "18ed7256",
   "metadata": {},
   "outputs": [
    {
     "name": "stdout",
     "output_type": "stream",
     "text": [
      "2.9166666666666665\n",
      "[2.25 2.25 2.25]\n",
      "[0.66666667 0.66666667]\n"
     ]
    }
   ],
   "source": [
    "array = np.array([[1, 2, 3], [4, 5, 6]])\n",
    "\n",
    "# Variance of all elements\n",
    "var_value = np.var(array)\n",
    "print(var_value)  # Output: 2.9166666666666665\n",
    "\n",
    "# Variance along axis 0 (columns)\n",
    "var_axis0 = np.var(array, axis=0)\n",
    "print(var_axis0)  # Output: [2.25 2.25 2.25]\n",
    "\n",
    "# Variance along axis 1 (rows)\n",
    "var_axis1 = np.var(array, axis=1)\n",
    "print(var_axis1)  # Output: [0.66666667 0.66666667]"
   ]
  },
  {
   "cell_type": "markdown",
   "id": "9035786c",
   "metadata": {},
   "source": [
    "**6. Minimum and Maximum**\n",
    "\n",
    "The np.min() and np.max() functions find the minimum and maximum values in the array, respectively."
   ]
  },
  {
   "cell_type": "code",
   "execution_count": 40,
   "id": "34982a69",
   "metadata": {},
   "outputs": [
    {
     "name": "stdout",
     "output_type": "stream",
     "text": [
      "1\n",
      "6\n",
      "[1 2 3]\n",
      "[3 6]\n"
     ]
    }
   ],
   "source": [
    "array = np.array([[1, 2, 3], [4, 5, 6]])\n",
    "\n",
    "# Minimum of all elements\n",
    "min_value = np.min(array)\n",
    "print(min_value)  # Output: 1\n",
    "\n",
    "# Maximum of all elements\n",
    "max_value = np.max(array)\n",
    "print(max_value)  # Output: 6\n",
    "\n",
    "# Minimum along axis 0 (columns)\n",
    "min_axis0 = np.min(array, axis=0)\n",
    "print(min_axis0)  # Output: [1 2 3]\n",
    "\n",
    "# Maximum along axis 1 (rows)\n",
    "max_axis1 = np.max(array, axis=1)\n",
    "print(max_axis1)  # Output: [3 6]"
   ]
  },
  {
   "cell_type": "markdown",
   "id": "75e6bfcc",
   "metadata": {},
   "source": [
    "**7. Cumulative Sum and Product**\n",
    "\n",
    "The np.cumsum() and np.cumprod() functions compute the cumulative sum and product of array elements, respectively."
   ]
  },
  {
   "cell_type": "code",
   "execution_count": 41,
   "id": "48351476",
   "metadata": {},
   "outputs": [
    {
     "name": "stdout",
     "output_type": "stream",
     "text": [
      "[ 1  3  6 10]\n",
      "[ 1  2  6 24]\n"
     ]
    }
   ],
   "source": [
    "array = np.array([1, 2, 3, 4])\n",
    "\n",
    "# Cumulative sum\n",
    "cumsum_values = np.cumsum(array)\n",
    "print(cumsum_values)  # Output: [ 1  3  6 10]\n",
    "\n",
    "# Cumulative product\n",
    "cumprod_values = np.cumprod(array)\n",
    "print(cumprod_values)  # Output: [ 1  2  6 24]"
   ]
  },
  {
   "cell_type": "markdown",
   "id": "75e775a6",
   "metadata": {},
   "source": [
    "## Random Number Generation\n",
    "\n",
    "Random number generation is a crucial aspect of many numerical simulations and data analysis tasks.\n",
    "\n",
    "NumPy provides a suite of tools for generating random numbers"
   ]
  },
  {
   "cell_type": "markdown",
   "id": "27d0b3e2",
   "metadata": {},
   "source": [
    "**1. Generating Random Numbers**\n",
    "\n",
    "np.random.rand():\n",
    "\n",
    "Generates random numbers uniformly distributed between 0 and 1."
   ]
  },
  {
   "cell_type": "code",
   "execution_count": 43,
   "id": "a1191078",
   "metadata": {},
   "outputs": [
    {
     "name": "stdout",
     "output_type": "stream",
     "text": [
      "0.028898957886691834\n",
      "[0.76554625 0.3352961  0.96895546 0.92667817 0.90243154]\n",
      "[[0.23590247 0.17833311 0.19465527]\n",
      " [0.26886903 0.12131727 0.77359116]\n",
      " [0.86232296 0.4964449  0.41627267]]\n"
     ]
    }
   ],
   "source": [
    "# Generating a single random number\n",
    "random_number = np.random.rand()\n",
    "print(random_number)\n",
    "\n",
    "# Generating a 1D array of random numbers\n",
    "random_array_1d = np.random.rand(5)\n",
    "print(random_array_1d)\n",
    "\n",
    "# Generating a 2D array of random numbers\n",
    "random_array_2d = np.random.rand(3, 3)\n",
    "print(random_array_2d)"
   ]
  },
  {
   "cell_type": "markdown",
   "id": "922dc905",
   "metadata": {},
   "source": [
    "np.random.randn():\n",
    "\n",
    "Generates random numbers from a standard normal distribution (mean = 0, standard deviation = 1)."
   ]
  },
  {
   "cell_type": "code",
   "execution_count": 44,
   "id": "09cccc55",
   "metadata": {},
   "outputs": [
    {
     "name": "stdout",
     "output_type": "stream",
     "text": [
      "-0.5391431635446554\n",
      "[-0.91240379 -0.11949198  0.35493903 -0.05815958  0.60679004]\n",
      "[[ 0.12831733 -0.25024294 -0.49296927]\n",
      " [-1.43550115  1.67015089 -0.46080474]\n",
      " [ 0.73905627  0.68416025  0.42174981]]\n"
     ]
    }
   ],
   "source": [
    "# Generating a single random number from a standard normal distribution\n",
    "random_normal = np.random.randn()\n",
    "print(random_normal)\n",
    "\n",
    "# Generating a 1D array of random numbers from a standard normal distribution\n",
    "random_normal_array_1d = np.random.randn(5)\n",
    "print(random_normal_array_1d)\n",
    "\n",
    "# Generating a 2D array of random numbers from a standard normal distribution\n",
    "random_normal_array_2d = np.random.randn(3, 3)\n",
    "print(random_normal_array_2d)"
   ]
  },
  {
   "cell_type": "markdown",
   "id": "068117de",
   "metadata": {},
   "source": [
    "**2. Generating Random Integers**\n",
    "\n",
    "np.random.randint():\n",
    "\n",
    "Generates random integers between a specified range."
   ]
  },
  {
   "cell_type": "code",
   "execution_count": 45,
   "id": "e2bd9d23",
   "metadata": {},
   "outputs": [
    {
     "name": "stdout",
     "output_type": "stream",
     "text": [
      "8\n",
      "[8 9 0 2 0]\n",
      "[[3 9 9]\n",
      " [9 3 1]\n",
      " [1 1 7]]\n"
     ]
    }
   ],
   "source": [
    "# Generating a single random integer between 0 and 10\n",
    "random_int = np.random.randint(0, 10)\n",
    "print(random_int)\n",
    "\n",
    "# Generating a 1D array of random integers between 0 and 10\n",
    "random_int_array_1d = np.random.randint(0, 10, size=5)\n",
    "print(random_int_array_1d)\n",
    "\n",
    "# Generating a 2D array of random integers between 0 and 10\n",
    "random_int_array_2d = np.random.randint(0, 10, size=(3, 3))\n",
    "print(random_int_array_2d)"
   ]
  },
  {
   "cell_type": "markdown",
   "id": "6f414fe4",
   "metadata": {},
   "source": [
    "**3. Random Choice**\n",
    "\n",
    "np.random.choice():\n",
    "\n",
    "Generates a random sample from a given 1D array."
   ]
  },
  {
   "cell_type": "code",
   "execution_count": 46,
   "id": "fd12ba35",
   "metadata": {},
   "outputs": [
    {
     "name": "stdout",
     "output_type": "stream",
     "text": [
      "5\n",
      "[4 1 2]\n",
      "[3 1 3]\n"
     ]
    }
   ],
   "source": [
    "array = np.array([1, 2, 3, 4, 5])\n",
    "\n",
    "# Generating a single random choice from the array\n",
    "random_choice = np.random.choice(array)\n",
    "print(random_choice)\n",
    "\n",
    "# Generating multiple random choices from the array\n",
    "random_choices = np.random.choice(array, size=3)\n",
    "print(random_choices)\n",
    "\n",
    "# Generating random choices with replacement\n",
    "random_choices_replace = np.random.choice(array, size=3, replace=True)\n",
    "print(random_choices_replace)"
   ]
  },
  {
   "cell_type": "markdown",
   "id": "068d5a07",
   "metadata": {},
   "source": [
    "**4. Setting a Random Seed**\n",
    "\n",
    "To ensure reproducibility of random number generation, we can set a random seed."
   ]
  },
  {
   "cell_type": "code",
   "execution_count": 49,
   "id": "aa117b5d",
   "metadata": {},
   "outputs": [
    {
     "name": "stdout",
     "output_type": "stream",
     "text": [
      "0.3745401188473625\n"
     ]
    }
   ],
   "source": [
    "# Setting a random seed\n",
    "np.random.seed(42)\n",
    "\n",
    "# Generating random numbers\n",
    "random_number = np.random.rand()\n",
    "print(random_number)  # Output will be the same every time we run this code"
   ]
  },
  {
   "cell_type": "markdown",
   "id": "83523544",
   "metadata": {},
   "source": [
    "**5. Permutations and Shuffling**\n",
    "\n",
    "np.random.permutation():\n",
    "\n",
    "Generates a permuted range or array."
   ]
  },
  {
   "cell_type": "code",
   "execution_count": 50,
   "id": "8c2fccdf",
   "metadata": {},
   "outputs": [
    {
     "name": "stdout",
     "output_type": "stream",
     "text": [
      "[3 9 0 8 5 2 1 6 4 7]\n",
      "[5 4 1 2 3]\n"
     ]
    }
   ],
   "source": [
    "# Permute a sequence\n",
    "permuted_array = np.random.permutation(10)\n",
    "print(permuted_array)\n",
    "\n",
    "# Permute a given array\n",
    "array = np.array([1, 2, 3, 4, 5])\n",
    "permuted_array = np.random.permutation(array)\n",
    "print(permuted_array)"
   ]
  },
  {
   "cell_type": "markdown",
   "id": "9429a339",
   "metadata": {},
   "source": [
    "np.random.shuffle():\n",
    "    \n",
    "Shuffles the contents of a given array in place."
   ]
  },
  {
   "cell_type": "code",
   "execution_count": 51,
   "id": "8ca6feb9",
   "metadata": {},
   "outputs": [
    {
     "name": "stdout",
     "output_type": "stream",
     "text": [
      "[1 3 5 2 4]\n"
     ]
    }
   ],
   "source": [
    "# Shuffling an array\n",
    "array = np.array([1, 2, 3, 4, 5])\n",
    "np.random.shuffle(array)\n",
    "print(array)  # The array is shuffled in place"
   ]
  },
  {
   "cell_type": "markdown",
   "id": "278d4600",
   "metadata": {},
   "source": [
    "## Linear Algebra Operations\n",
    "\n",
    "These operations are essential for scientific computing, data analysis, and machine learning.\n",
    "\n",
    "They include matrix multiplication, finding determinants, computing eigenvalues and eigenvectors, and solving systems of linear equations."
   ]
  },
  {
   "cell_type": "markdown",
   "id": "c029b26b",
   "metadata": {},
   "source": [
    "**1. Matrix Multiplication**\n",
    "\n",
    "np.dot() and np.matmul():\n",
    "\n",
    "* np.dot() is used for dot product of two arrays.\n",
    "* np.matmul() is used for matrix multiplication."
   ]
  },
  {
   "cell_type": "code",
   "execution_count": 52,
   "id": "cc831c2f",
   "metadata": {},
   "outputs": [
    {
     "name": "stdout",
     "output_type": "stream",
     "text": [
      "[[19 22]\n",
      " [43 50]]\n",
      "[[19 22]\n",
      " [43 50]]\n"
     ]
    }
   ],
   "source": [
    "A = np.array([[1, 2], [3, 4]])\n",
    "B = np.array([[5, 6], [7, 8]])\n",
    "\n",
    "# Matrix multiplication using np.dot()\n",
    "result_dot = np.dot(A, B)\n",
    "print(result_dot)\n",
    "\n",
    "# Matrix multiplication using np.matmul()\n",
    "result_matmul = np.matmul(A, B)\n",
    "print(result_matmul)"
   ]
  },
  {
   "cell_type": "markdown",
   "id": "2f509d5f",
   "metadata": {},
   "source": [
    "**2. Transpose of a Matrix**\n",
    "\n",
    "np.transpose() or .T attribute:\n",
    "\n",
    "* np.transpose() function or .T attribute can be used to transpose a matrix."
   ]
  },
  {
   "cell_type": "code",
   "execution_count": 53,
   "id": "16567916",
   "metadata": {},
   "outputs": [
    {
     "name": "stdout",
     "output_type": "stream",
     "text": [
      "[[1 3]\n",
      " [2 4]]\n",
      "[[1 3]\n",
      " [2 4]]\n"
     ]
    }
   ],
   "source": [
    "A = np.array([[1, 2], [3, 4]])\n",
    "\n",
    "# Transposing using np.transpose()\n",
    "transpose_A = np.transpose(A)\n",
    "print(transpose_A)\n",
    "\n",
    "# Transposing using .T attribute\n",
    "transpose_A_T = A.T\n",
    "print(transpose_A_T)"
   ]
  },
  {
   "cell_type": "markdown",
   "id": "191332fe",
   "metadata": {},
   "source": [
    "**3. Determinant of a Matrix**\n",
    "\n",
    "np.linalg.det() -computes the determinant of a square matrix."
   ]
  },
  {
   "cell_type": "code",
   "execution_count": 54,
   "id": "cf6efcf7",
   "metadata": {},
   "outputs": [
    {
     "name": "stdout",
     "output_type": "stream",
     "text": [
      "-2.0000000000000004\n"
     ]
    }
   ],
   "source": [
    "A = np.array([[1, 2], [3, 4]])\n",
    "det_A = np.linalg.det(A)\n",
    "print(det_A)"
   ]
  },
  {
   "cell_type": "markdown",
   "id": "e7fe78a2",
   "metadata": {},
   "source": [
    "**4. Inverse of a Matrix**\n",
    "\n",
    "np.linalg.inv() - computes the inverse of a square matrix."
   ]
  },
  {
   "cell_type": "code",
   "execution_count": 56,
   "id": "e99ee901",
   "metadata": {},
   "outputs": [
    {
     "name": "stdout",
     "output_type": "stream",
     "text": [
      "[[-2.   1. ]\n",
      " [ 1.5 -0.5]]\n"
     ]
    }
   ],
   "source": [
    "A = np.array([[1, 2], [3, 4]])\n",
    "inv_A = np.linalg.inv(A)\n",
    "print(inv_A)"
   ]
  },
  {
   "cell_type": "markdown",
   "id": "aa9bb6cc",
   "metadata": {},
   "source": [
    "**5. Eigenvalues and Eigenvectors**\n",
    "\n",
    "np.linalg.eig() - computes the eigenvalues and right eigenvectors of a square matrix."
   ]
  },
  {
   "cell_type": "code",
   "execution_count": 57,
   "id": "66be0d92",
   "metadata": {},
   "outputs": [
    {
     "name": "stdout",
     "output_type": "stream",
     "text": [
      "Eigenvalues: [-0.37228132  5.37228132]\n",
      "Eigenvectors:\n",
      " [[-0.82456484 -0.41597356]\n",
      " [ 0.56576746 -0.90937671]]\n"
     ]
    }
   ],
   "source": [
    "A = np.array([[1, 2], [3, 4]])\n",
    "eigenvalues, eigenvectors = np.linalg.eig(A)\n",
    "print(\"Eigenvalues:\", eigenvalues)\n",
    "print(\"Eigenvectors:\\n\", eigenvectors)"
   ]
  },
  {
   "cell_type": "markdown",
   "id": "bdddf35f",
   "metadata": {},
   "source": [
    "**6. Solving Systems of Linear Equations**\n",
    "\n",
    "np.linalg.solve() - solves the linear equation Ax = b for x."
   ]
  },
  {
   "cell_type": "code",
   "execution_count": 58,
   "id": "4c8a0f56",
   "metadata": {},
   "outputs": [
    {
     "name": "stdout",
     "output_type": "stream",
     "text": [
      "[2. 3.]\n"
     ]
    }
   ],
   "source": [
    "A = np.array([[3, 1], [1, 2]])\n",
    "b = np.array([9, 8])\n",
    "\n",
    "# Solving the system of linear equations Ax = b\n",
    "x = np.linalg.solve(A, b)\n",
    "print(x)"
   ]
  },
  {
   "cell_type": "markdown",
   "id": "546fdf0b",
   "metadata": {},
   "source": [
    "**7. Matrix Norms**\n",
    "\n",
    "np.linalg.norm() - computes the norm of a matrix or vector."
   ]
  },
  {
   "cell_type": "code",
   "execution_count": 59,
   "id": "8a504cb2",
   "metadata": {},
   "outputs": [
    {
     "name": "stdout",
     "output_type": "stream",
     "text": [
      "5.477225575051661\n",
      "3.7416573867739413\n"
     ]
    }
   ],
   "source": [
    "A = np.array([[1, 2], [3, 4]])\n",
    "\n",
    "# Frobenius norm (default)\n",
    "norm_A = np.linalg.norm(A)\n",
    "print(norm_A)\n",
    "\n",
    "# L2 norm (vector norm)\n",
    "vector = np.array([1, 2, 3])\n",
    "norm_vector = np.linalg.norm(vector)\n",
    "print(norm_vector)"
   ]
  },
  {
   "cell_type": "markdown",
   "id": "89f160fd",
   "metadata": {},
   "source": [
    "## Reshaping\n",
    "\n",
    "Reshaping arrays in NumPy is a crucial operation that allows us to change the shape of an array without changing its data."
   ]
  },
  {
   "cell_type": "markdown",
   "id": "2d2454f2",
   "metadata": {},
   "source": [
    "Syntax:\n",
    "\n",
    "**numpy.reshape(a, newshape, order='C')**\n",
    "\n",
    "* a: Array to be reshaped.\n",
    "* newshape: Desired shape.\n",
    "* order: Determines whether the array should be flattened row-wise ('C'), column-wise ('F'), or in memory order ('A')."
   ]
  },
  {
   "cell_type": "code",
   "execution_count": 60,
   "id": "e3b8ab79",
   "metadata": {},
   "outputs": [
    {
     "name": "stdout",
     "output_type": "stream",
     "text": [
      "[[1 2 3]\n",
      " [4 5 6]]\n"
     ]
    }
   ],
   "source": [
    "array = np.array([1, 2, 3, 4, 5, 6])\n",
    "reshaped_array = array.reshape((2, 3))\n",
    "print(reshaped_array)"
   ]
  },
  {
   "cell_type": "markdown",
   "id": "0303e244",
   "metadata": {},
   "source": [
    "**2. Using np.newaxis**\n",
    "\n",
    "We can use np.newaxis to increase the dimensions of an existing array.\n",
    "\n",
    "np.newaxis is used to add a new axis to the array, which is useful for adding dimensions to 1D or 2D arrays."
   ]
  },
  {
   "cell_type": "code",
   "execution_count": 61,
   "id": "7b5c86a6",
   "metadata": {},
   "outputs": [
    {
     "name": "stdout",
     "output_type": "stream",
     "text": [
      "(3,)\n",
      "[[1]\n",
      " [2]\n",
      " [3]]\n",
      "(3, 1)\n"
     ]
    }
   ],
   "source": [
    "array = np.array([1, 2, 3])\n",
    "print(array.shape)\n",
    "\n",
    "# Adding a new axis\n",
    "array_2d = array[:, np.newaxis]\n",
    "print(array_2d)\n",
    "print(array_2d.shape)"
   ]
  },
  {
   "cell_type": "markdown",
   "id": "462ec882",
   "metadata": {},
   "source": [
    "**3. Using np.ravel and np.flatten**\n",
    "\n",
    "Both ravel and flatten methods are used to flatten a multi-dimensional array into a 1D array.\n",
    "\n",
    "* np.ravel(): Returns a flattened array. This is a view of the original array whenever possible.\n",
    "* np.flatten(): Returns a copy of the array collapsed into one dimension."
   ]
  },
  {
   "cell_type": "code",
   "execution_count": 62,
   "id": "e44cdff2",
   "metadata": {},
   "outputs": [
    {
     "name": "stdout",
     "output_type": "stream",
     "text": [
      "[1 2 3 4 5 6]\n",
      "[1 2 3 4 5 6]\n"
     ]
    }
   ],
   "source": [
    "array = np.array([[1, 2, 3], [4, 5, 6]])\n",
    "\n",
    "# Using ravel\n",
    "raveled_array = np.ravel(array)\n",
    "print(raveled_array)  # Output: [1 2 3 4 5 6]\n",
    "\n",
    "# Using flatten\n",
    "flattened_array = array.flatten()\n",
    "print(flattened_array)  # Output: [1 2 3 4 5 6]"
   ]
  },
  {
   "cell_type": "markdown",
   "id": "1ed64582",
   "metadata": {},
   "source": [
    "**4. Reshape with order Parameter**\n",
    "\n",
    "The order parameter in the reshape method specifies the reading and writing order for the elements.\n",
    "\n",
    "* 'C': Row-major (C-style) order.\n",
    "* 'F': Column-major (Fortran-style) order.\n",
    "* 'A': Fortran-style order if the array is Fortran contiguous in memory, C-style otherwise."
   ]
  },
  {
   "cell_type": "code",
   "execution_count": 63,
   "id": "ea418192",
   "metadata": {},
   "outputs": [
    {
     "name": "stdout",
     "output_type": "stream",
     "text": [
      "[[1 2]\n",
      " [3 4]\n",
      " [5 6]]\n",
      "[[1 5]\n",
      " [4 3]\n",
      " [2 6]]\n"
     ]
    }
   ],
   "source": [
    "array = np.array([[1, 2, 3], [4, 5, 6]])\n",
    "\n",
    "# Reshape in row-major order\n",
    "reshaped_c = array.reshape((3, 2), order='C')\n",
    "print(reshaped_c)\n",
    "# Output:\n",
    "# [[1 2]\n",
    "#  [3 4]\n",
    "#  [5 6]]\n",
    "\n",
    "# Reshape in column-major order\n",
    "reshaped_f = array.reshape((3, 2), order='F')\n",
    "print(reshaped_f)\n",
    "# Output:\n",
    "# [[1 4]\n",
    "#  [2 5]\n",
    "#  [3 6]]"
   ]
  },
  {
   "cell_type": "markdown",
   "id": "d05e3450",
   "metadata": {},
   "source": [
    "**5. np.transpose and np.swapaxes**\n",
    "\n",
    "* np.transpose(): Permutes the dimensions of the array.\n",
    "* np.swapaxes(): Interchanges two axes of an array. This is useful for specific transpositions in higher-dimensional arrays."
   ]
  },
  {
   "cell_type": "code",
   "execution_count": 64,
   "id": "778464c2",
   "metadata": {},
   "outputs": [
    {
     "name": "stdout",
     "output_type": "stream",
     "text": [
      "[[1 4]\n",
      " [2 5]\n",
      " [3 6]]\n",
      "[[1 4]\n",
      " [2 5]\n",
      " [3 6]]\n"
     ]
    }
   ],
   "source": [
    "array = np.array([[1, 2, 3], [4, 5, 6]])\n",
    "\n",
    "# Transpose the array\n",
    "transposed_array = np.transpose(array)\n",
    "print(transposed_array)\n",
    "\n",
    "# Swap axes\n",
    "swapped_array = np.swapaxes(array, 0, 1)\n",
    "print(swapped_array)"
   ]
  },
  {
   "cell_type": "markdown",
   "id": "1944c8b3",
   "metadata": {},
   "source": [
    "## Congratulations!\n",
    "\n",
    "We've completed learning most important and useful basics in NumPy Library, now you have a solid foundation in one of the most powerful tools for numerical computing in Python.\n",
    "\n",
    "To consolidate your knowledge you will have to practice your skills on the tasks which would be presented in another file.\n",
    "\n",
    "*Good Luck!*"
   ]
  },
  {
   "cell_type": "code",
   "execution_count": null,
   "id": "9ccefa2e",
   "metadata": {},
   "outputs": [],
   "source": []
  }
 ],
 "metadata": {
  "kernelspec": {
   "display_name": "Python 3 (ipykernel)",
   "language": "python",
   "name": "python3"
  },
  "language_info": {
   "codemirror_mode": {
    "name": "ipython",
    "version": 3
   },
   "file_extension": ".py",
   "mimetype": "text/x-python",
   "name": "python",
   "nbconvert_exporter": "python",
   "pygments_lexer": "ipython3",
   "version": "3.9.7"
  }
 },
 "nbformat": 4,
 "nbformat_minor": 5
}
